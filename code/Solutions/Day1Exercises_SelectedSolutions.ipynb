{
 "cells": [
  {
   "cell_type": "markdown",
   "id": "bb490c5c",
   "metadata": {},
   "source": [
    "\n",
    "![Image](../resources/cropped-SummerWorkshop_Header.png)\n",
    "\n",
    "<h1 align=\"center\">Encoding </h1> \n",
    "<h2 align=\"center\"> Day 1, Exercises. SWDB 2023 </h2> \n",
    "\n",
    "<h3 align=\"center\">Monday, August 21, 2023</h3> "
   ]
  },
  {
   "cell_type": "markdown",
   "id": "1bb5cfce",
   "metadata": {},
   "source": [
    "<div style=\"border-left: 3px solid #000; padding: 1px; padding-left: 10px; background: #DFF0D8; \">\n",
    "There are more excersizes here than you can likely do in a afternoon. That said, please try a few of them - this is your first chance to use you newly minted Python skills to dig into a new data set! \n",
    "    \n",
    "Remember, if you get stuck there are TAs all around to help you. Don't waste time beating your head against a problem. We are here to help!\n",
    "    "
   ]
  },
  {
   "cell_type": "code",
   "execution_count": 1,
   "id": "6f97ea97",
   "metadata": {},
   "outputs": [],
   "source": [
    "# We need to import these modules to get started\n",
    "import numpy as np\n",
    "import pandas as pd\n",
    "import platform\n",
    "import os\n",
    "import matplotlib.pyplot as plt\n",
    "%matplotlib inline"
   ]
  },
  {
   "cell_type": "code",
   "execution_count": 2,
   "id": "8616bb43",
   "metadata": {},
   "outputs": [],
   "source": [
    "# Set file location based on platform. \n",
    "platstring = platform.platform()\n",
    "if ('Darwin' in platstring) or ('macOS' in platstring):\n",
    "    # macOS \n",
    "    data_root = \"/Volumes/Brain2023/\"\n",
    "elif 'Windows'  in platstring:\n",
    "    # Windows (replace with the drive letter of USB drive)\n",
    "    data_root = \"E:/\"\n",
    "elif ('amzn' in platstring):\n",
    "    # then on Code Ocean\n",
    "    data_root = \"/data/\"\n",
    "else:\n",
    "    # then your own linux platform\n",
    "    # EDIT location where you mounted hard drive\n",
    "    data_root = \"/media/$USERNAME/Brain2023/\""
   ]
  },
  {
   "cell_type": "code",
   "execution_count": 3,
   "id": "3dd77b15",
   "metadata": {},
   "outputs": [],
   "source": [
    "from allensdk.core.brain_observatory_cache import BrainObservatoryCache\n",
    "\n",
    "manifest_file = os.path.join(data_root,'allen-brain-observatory/visual-coding-2p/manifest.json')\n",
    "\n",
    "boc = BrainObservatoryCache(manifest_file=manifest_file)"
   ]
  },
  {
   "cell_type": "markdown",
   "id": "f7c012f1",
   "metadata": {},
   "source": [
    "<div style=\"border-left: 3px solid #000; padding: 1px; padding-left: 10px; background: #DFF0D8; \">\n",
    "\n",
    "<h2> Exercise 1: Explore direction tuning. </h2>\n",
    "     <p>\n",
    "   \n",
    "The workshops earlier today looked deeply at only a few examples of direction tuning in excitatory cells in primary visual cortex (Visp). Try digging a little deeper into the Brain Observatory data. \n",
    "</p>   \n",
    "\n",
    "<p>\n",
    "There is abolutly no right answer to this exercise, and everyone will end up with different adventure. \n",
    "</p>   \n",
    "    \n",
    "Some ideas include:\n",
    "<ul>\n",
    "  <li>Try a different brain area. </li>\n",
    "  <li>Or try a different Cre line. Maybe an inhibitory line would be particularly interesting?</li>\n",
    "  <li>Try adifferent imaging  depth.</li> \n",
    "  <li>Find a session with more running, or one where the mouse never runs.  </li> \n",
    "</ul>\n",
    "   \n",
    "<p> \n",
    "Do these areas/cre line/depths have direction tuning? Does it look different than in this mornings workshops? Are cells in the population more or less reliable?\n",
    "</p>\n",
    "    \n",
    "<p>   \n",
    "There is a very large search space. One strategy might be to team up with someone else so you can systematically try and compare a few different combinations.\n",
    "</p>"
   ]
  },
  {
   "cell_type": "markdown",
   "id": "4cb65bbd",
   "metadata": {},
   "source": [
    "To get you started, here is a quick refresher on how to query sessions in the data. We will go over two ways, one using the primarily the AllenSDK and the other outsourcing some of your queries to Pandas.\n",
    "\n",
    "Recall: the BrainObservatoryCache will tell you all of the avalible brain areas, cre lines, etc."
   ]
  },
  {
   "cell_type": "code",
   "execution_count": 4,
   "id": "f7ff0c3c",
   "metadata": {},
   "outputs": [
    {
     "name": "stdout",
     "output_type": "stream",
     "text": [
      "['VISal', 'VISam', 'VISl', 'VISp', 'VISpm', 'VISrl']\n",
      "['Cux2-CreERT2', 'Emx1-IRES-Cre', 'Fezf2-CreER', 'Nr5a1-Cre', 'Ntsr1-Cre_GN220', 'Pvalb-IRES-Cre', 'Rbp4-Cre_KL100', 'Rorb-IRES2-Cre', 'Scnn1a-Tg3-Cre', 'Slc17a7-IRES2-Cre', 'Sst-IRES-Cre', 'Tlx3-Cre_PL56', 'Vip-IRES-Cre']\n"
     ]
    }
   ],
   "source": [
    "print(boc.get_all_targeted_structures())\n",
    "print(boc.get_all_cre_lines())"
   ]
  },
  {
   "cell_type": "markdown",
   "id": "3d497bc1",
   "metadata": {},
   "source": [
    "You can then use the Cache object to query for your session(s) of interest. \n",
    "\n",
    "If you unsure where to start, we recomend choosing an SST-IRES-Cre line. Here, expression of GCaMP is driven in SST-positive interneurons, a type of inhibitory cell. This will form a nice juxdeposition to the excitatory cell line use in this morning's example. \n",
    "\n",
    "One note: you may notice that there are relativly few inhibitory neurons in any given session. This is because there are proportionally fewer inhibitory cells in cortex, and therefore fewer in any experiments field of view."
   ]
  },
  {
   "cell_type": "code",
   "execution_count": 5,
   "id": "db2b58c3",
   "metadata": {},
   "outputs": [
    {
     "data": {
      "text/html": [
       "<div>\n",
       "<style scoped>\n",
       "    .dataframe tbody tr th:only-of-type {\n",
       "        vertical-align: middle;\n",
       "    }\n",
       "\n",
       "    .dataframe tbody tr th {\n",
       "        vertical-align: top;\n",
       "    }\n",
       "\n",
       "    .dataframe thead th {\n",
       "        text-align: right;\n",
       "    }\n",
       "</style>\n",
       "<table border=\"1\" class=\"dataframe\">\n",
       "  <thead>\n",
       "    <tr style=\"text-align: right;\">\n",
       "      <th></th>\n",
       "      <th>id</th>\n",
       "      <th>imaging_depth</th>\n",
       "      <th>targeted_structure</th>\n",
       "      <th>cre_line</th>\n",
       "      <th>reporter_line</th>\n",
       "      <th>acquisition_age_days</th>\n",
       "      <th>experiment_container_id</th>\n",
       "      <th>session_type</th>\n",
       "      <th>donor_name</th>\n",
       "      <th>specimen_name</th>\n",
       "      <th>fail_eye_tracking</th>\n",
       "    </tr>\n",
       "  </thead>\n",
       "  <tbody>\n",
       "    <tr>\n",
       "      <th>0</th>\n",
       "      <td>603763073</td>\n",
       "      <td>325</td>\n",
       "      <td>VISpm</td>\n",
       "      <td>Sst-IRES-Cre</td>\n",
       "      <td>Ai148(TIT2L-GC6f-ICL-tTA2)</td>\n",
       "      <td>102</td>\n",
       "      <td>603763385</td>\n",
       "      <td>three_session_A</td>\n",
       "      <td>323528</td>\n",
       "      <td>Sst-IRES-Cre;Ai148(CAM)-323528</td>\n",
       "      <td>True</td>\n",
       "    </tr>\n",
       "    <tr>\n",
       "      <th>1</th>\n",
       "      <td>639117196</td>\n",
       "      <td>375</td>\n",
       "      <td>VISpm</td>\n",
       "      <td>Sst-IRES-Cre</td>\n",
       "      <td>Ai148(TIT2L-GC6f-ICL-tTA2)</td>\n",
       "      <td>97</td>\n",
       "      <td>639117194</td>\n",
       "      <td>three_session_A</td>\n",
       "      <td>340377</td>\n",
       "      <td>Sst-IRES-Cre;Ai148-340377</td>\n",
       "      <td>True</td>\n",
       "    </tr>\n",
       "    <tr>\n",
       "      <th>2</th>\n",
       "      <td>639251932</td>\n",
       "      <td>375</td>\n",
       "      <td>VISpm</td>\n",
       "      <td>Sst-IRES-Cre</td>\n",
       "      <td>Ai148(TIT2L-GC6f-ICL-tTA2)</td>\n",
       "      <td>96</td>\n",
       "      <td>639251930</td>\n",
       "      <td>three_session_A</td>\n",
       "      <td>340854</td>\n",
       "      <td>Sst-IRES-Cre;Ai148-340854</td>\n",
       "      <td>True</td>\n",
       "    </tr>\n",
       "    <tr>\n",
       "      <th>3</th>\n",
       "      <td>599909878</td>\n",
       "      <td>300</td>\n",
       "      <td>VISpm</td>\n",
       "      <td>Sst-IRES-Cre</td>\n",
       "      <td>Ai148(TIT2L-GC6f-ICL-tTA2)</td>\n",
       "      <td>111</td>\n",
       "      <td>599920955</td>\n",
       "      <td>three_session_A</td>\n",
       "      <td>315562</td>\n",
       "      <td>Sst-IRES-Cre;Ai148(CAM)-315562</td>\n",
       "      <td>False</td>\n",
       "    </tr>\n",
       "    <tr>\n",
       "      <th>4</th>\n",
       "      <td>603188560</td>\n",
       "      <td>275</td>\n",
       "      <td>VISpm</td>\n",
       "      <td>Sst-IRES-Cre</td>\n",
       "      <td>Ai148(TIT2L-GC6f-ICL-tTA2)</td>\n",
       "      <td>103</td>\n",
       "      <td>602397921</td>\n",
       "      <td>three_session_A</td>\n",
       "      <td>321822</td>\n",
       "      <td>Sst-IRES-Cre;Ai148(CAM)-321822</td>\n",
       "      <td>False</td>\n",
       "    </tr>\n",
       "  </tbody>\n",
       "</table>\n",
       "</div>"
      ],
      "text/plain": [
       "          id  imaging_depth targeted_structure      cre_line  \\\n",
       "0  603763073            325              VISpm  Sst-IRES-Cre   \n",
       "1  639117196            375              VISpm  Sst-IRES-Cre   \n",
       "2  639251932            375              VISpm  Sst-IRES-Cre   \n",
       "3  599909878            300              VISpm  Sst-IRES-Cre   \n",
       "4  603188560            275              VISpm  Sst-IRES-Cre   \n",
       "\n",
       "                reporter_line  acquisition_age_days  experiment_container_id  \\\n",
       "0  Ai148(TIT2L-GC6f-ICL-tTA2)                   102                603763385   \n",
       "1  Ai148(TIT2L-GC6f-ICL-tTA2)                    97                639117194   \n",
       "2  Ai148(TIT2L-GC6f-ICL-tTA2)                    96                639251930   \n",
       "3  Ai148(TIT2L-GC6f-ICL-tTA2)                   111                599920955   \n",
       "4  Ai148(TIT2L-GC6f-ICL-tTA2)                   103                602397921   \n",
       "\n",
       "      session_type donor_name                   specimen_name  \\\n",
       "0  three_session_A     323528  Sst-IRES-Cre;Ai148(CAM)-323528   \n",
       "1  three_session_A     340377       Sst-IRES-Cre;Ai148-340377   \n",
       "2  three_session_A     340854       Sst-IRES-Cre;Ai148-340854   \n",
       "3  three_session_A     315562  Sst-IRES-Cre;Ai148(CAM)-315562   \n",
       "4  three_session_A     321822  Sst-IRES-Cre;Ai148(CAM)-321822   \n",
       "\n",
       "   fail_eye_tracking  \n",
       "0               True  \n",
       "1               True  \n",
       "2               True  \n",
       "3              False  \n",
       "4              False  "
      ]
     },
     "execution_count": 5,
     "metadata": {},
     "output_type": "execute_result"
    }
   ],
   "source": [
    "sessions_list = boc.get_ophys_experiments(stimuli=['drifting_gratings'],\n",
    "                                                            cre_lines = ['SSt-IRES-Cre'],\n",
    "                                                            targeted_structures=['VISpm'])\n",
    "sessions_table = pd.DataFrame(sessions_list)\n",
    "sessions_table.head()"
   ]
  },
  {
   "cell_type": "markdown",
   "id": "d7bca148",
   "metadata": {},
   "source": [
    "From here, you can select a session ID to try using the code from this morning!"
   ]
  },
  {
   "cell_type": "code",
   "execution_count": null,
   "id": "654adca8",
   "metadata": {},
   "outputs": [],
   "source": []
  },
  {
   "cell_type": "markdown",
   "id": "30bd3f5e",
   "metadata": {},
   "source": [
    "<div style=\"border-left: 3px solid #000; padding: 1px; padding-left: 10px; background: #DFF0D8; \">\n",
    "\n",
    "<h2> Exercise 2: To df/f or not to df/f, that is the question. </h2>\n",
    "\n",
    "In the workshop, we chose to use detected Ca2+ events to build our receptive fields and analyse our data. Did this matter? How might this have changed our results?\n",
    "    \n",
    "<p> To test this, find a few cells with known tuning behavior. Try building a tuning curve using both the df/f traces and the detected event magnitudes. What does this decision do to the tuning curves? In what situtations might this distinction matter more or less? </p> "
   ]
  },
  {
   "cell_type": "code",
   "execution_count": null,
   "id": "0a879105",
   "metadata": {},
   "outputs": [],
   "source": []
  },
  {
   "cell_type": "markdown",
   "id": "51498535",
   "metadata": {},
   "source": [
    "<div style=\"border-left: 3px solid #000; padding: 1px; padding-left: 10px; background: #DFF0D8; \">\n",
    "\n",
    "<h2> Exercise 3: What else might be encoded in visual cortex?</h2>\n",
    "   \n",
    "    <p>\n",
    "Remeber, these mice saw more then just driting grating stimuli! Lets see if we can learn about the spatial selectivity of these cells, that is, we can ask whether cells encode the spatial location of stimuli.\n",
    "   \n",
    "        <p>\n",
    "To do this, we will use a stimulus set known as \"locally sparse noise.\" Here, mice were shown movies consisting of a mostly grey screen with non-neighboring (locally sparse) black and white pixels positioned randomly (noise) on the screen. \n"
   ]
  },
  {
   "cell_type": "markdown",
   "id": "8814fa3a",
   "metadata": {},
   "source": [
    "<div style=\"border-left: 3px solid #000; padding: 1px; padding-left: 10px; background: #DFF0D8; \">\n",
    "\n",
    "<h2> Exercise 3a: Get the dataset and look at the noise stimulus</h2>\n",
    "    \n",
    "First, lets get the session containing the locally sparse noise and plot a frame of the stimulus."
   ]
  },
  {
   "cell_type": "code",
   "execution_count": 6,
   "id": "6e8ee9bf",
   "metadata": {},
   "outputs": [
    {
     "data": {
      "text/html": [
       "<div>\n",
       "<style scoped>\n",
       "    .dataframe tbody tr th:only-of-type {\n",
       "        vertical-align: middle;\n",
       "    }\n",
       "\n",
       "    .dataframe tbody tr th {\n",
       "        vertical-align: top;\n",
       "    }\n",
       "\n",
       "    .dataframe thead th {\n",
       "        text-align: right;\n",
       "    }\n",
       "</style>\n",
       "<table border=\"1\" class=\"dataframe\">\n",
       "  <thead>\n",
       "    <tr style=\"text-align: right;\">\n",
       "      <th></th>\n",
       "      <th>id</th>\n",
       "      <th>imaging_depth</th>\n",
       "      <th>targeted_structure</th>\n",
       "      <th>cre_line</th>\n",
       "      <th>reporter_line</th>\n",
       "      <th>acquisition_age_days</th>\n",
       "      <th>experiment_container_id</th>\n",
       "      <th>session_type</th>\n",
       "      <th>donor_name</th>\n",
       "      <th>specimen_name</th>\n",
       "      <th>fail_eye_tracking</th>\n",
       "    </tr>\n",
       "  </thead>\n",
       "  <tbody>\n",
       "    <tr>\n",
       "      <th>0</th>\n",
       "      <td>639254728</td>\n",
       "      <td>400</td>\n",
       "      <td>VISp</td>\n",
       "      <td>Fezf2-CreER</td>\n",
       "      <td>Ai148(TIT2L-GC6f-ICL-tTA2)</td>\n",
       "      <td>100</td>\n",
       "      <td>637998953</td>\n",
       "      <td>three_session_C2</td>\n",
       "      <td>339839</td>\n",
       "      <td>Fezf2-CreER;Ai148-339839</td>\n",
       "      <td>False</td>\n",
       "    </tr>\n",
       "  </tbody>\n",
       "</table>\n",
       "</div>"
      ],
      "text/plain": [
       "          id  imaging_depth targeted_structure     cre_line  \\\n",
       "0  639254728            400               VISp  Fezf2-CreER   \n",
       "\n",
       "                reporter_line  acquisition_age_days  experiment_container_id  \\\n",
       "0  Ai148(TIT2L-GC6f-ICL-tTA2)                   100                637998953   \n",
       "\n",
       "       session_type donor_name             specimen_name  fail_eye_tracking  \n",
       "0  three_session_C2     339839  Fezf2-CreER;Ai148-339839              False  "
      ]
     },
     "execution_count": 6,
     "metadata": {},
     "output_type": "execute_result"
    }
   ],
   "source": [
    "sessions_list = boc.get_ophys_experiments(experiment_container_ids= [637998953],\n",
    "                                          stimuli=['locally_sparse_noise_8deg'],)\n",
    "sessions_table = pd.DataFrame(sessions_list)\n",
    "sessions_table"
   ]
  },
  {
   "cell_type": "code",
   "execution_count": 7,
   "id": "f955ff42",
   "metadata": {},
   "outputs": [],
   "source": [
    "# Load the dataset\n",
    "session_id = sessions_table.id.values[0]\n",
    "data_set = boc.get_ophys_experiment_data(ophys_experiment_id=sessions_table.id.values[0])"
   ]
  },
  {
   "cell_type": "code",
   "execution_count": 8,
   "id": "aeb9cd50",
   "metadata": {},
   "outputs": [
    {
     "data": {
      "text/html": [
       "<div>\n",
       "<style scoped>\n",
       "    .dataframe tbody tr th:only-of-type {\n",
       "        vertical-align: middle;\n",
       "    }\n",
       "\n",
       "    .dataframe tbody tr th {\n",
       "        vertical-align: top;\n",
       "    }\n",
       "\n",
       "    .dataframe thead th {\n",
       "        text-align: right;\n",
       "    }\n",
       "</style>\n",
       "<table border=\"1\" class=\"dataframe\">\n",
       "  <thead>\n",
       "    <tr style=\"text-align: right;\">\n",
       "      <th></th>\n",
       "      <th>frame</th>\n",
       "      <th>start</th>\n",
       "      <th>end</th>\n",
       "    </tr>\n",
       "  </thead>\n",
       "  <tbody>\n",
       "    <tr>\n",
       "      <th>0</th>\n",
       "      <td>0</td>\n",
       "      <td>15343</td>\n",
       "      <td>15351</td>\n",
       "    </tr>\n",
       "    <tr>\n",
       "      <th>1</th>\n",
       "      <td>1</td>\n",
       "      <td>15351</td>\n",
       "      <td>15358</td>\n",
       "    </tr>\n",
       "    <tr>\n",
       "      <th>2</th>\n",
       "      <td>2</td>\n",
       "      <td>15359</td>\n",
       "      <td>15366</td>\n",
       "    </tr>\n",
       "    <tr>\n",
       "      <th>3</th>\n",
       "      <td>3</td>\n",
       "      <td>15366</td>\n",
       "      <td>15373</td>\n",
       "    </tr>\n",
       "    <tr>\n",
       "      <th>4</th>\n",
       "      <td>4</td>\n",
       "      <td>15374</td>\n",
       "      <td>15381</td>\n",
       "    </tr>\n",
       "  </tbody>\n",
       "</table>\n",
       "</div>"
      ],
      "text/plain": [
       "   frame  start    end\n",
       "0      0  15343  15351\n",
       "1      1  15351  15358\n",
       "2      2  15359  15366\n",
       "3      3  15366  15373\n",
       "4      4  15374  15381"
      ]
     },
     "execution_count": 8,
     "metadata": {},
     "output_type": "execute_result"
    }
   ],
   "source": [
    "# Get the stimulus table\n",
    "stim_table = data_set.get_stimulus_table('locally_sparse_noise_8deg')\n",
    "stim_table.head()"
   ]
  },
  {
   "cell_type": "code",
   "execution_count": 9,
   "id": "83993d34",
   "metadata": {},
   "outputs": [
    {
     "data": {
      "text/plain": [
       "(5584, 8, 14)"
      ]
     },
     "execution_count": 9,
     "metadata": {},
     "output_type": "execute_result"
    }
   ],
   "source": [
    "# Get the stimulus movie\n",
    "# It is called the \"stimulus template\"\n",
    "stimulus_template = data_set.get_stimulus_template('locally_sparse_noise_8deg')\n",
    "stimulus_template.shape"
   ]
  },
  {
   "cell_type": "code",
   "execution_count": 10,
   "id": "6604d78a",
   "metadata": {},
   "outputs": [
    {
     "data": {
      "text/plain": [
       "Text(0, 0.5, 'Y pixels')"
      ]
     },
     "execution_count": 10,
     "metadata": {},
     "output_type": "execute_result"
    },
    {
     "data": {
      "image/png": "[encoded data removed]",
      "text/plain": [
       "<Figure size 432x288 with 1 Axes>"
      ]
     },
     "metadata": {
      "needs_background": "light"
     },
     "output_type": "display_data"
    }
   ],
   "source": [
    "# Plot a single frame\n",
    "fig,ax = plt.subplots()\n",
    "ax.imshow(stimulus_template[0],cmap= 'Greys')\n",
    "ax.set_xlabel('X pixels')\n",
    "ax.set_ylabel('Y pixels')"
   ]
  },
  {
   "cell_type": "markdown",
   "id": "bbed6d75",
   "metadata": {},
   "source": [
    "<div style=\"border-left: 3px solid #000; padding: 1px; padding-left: 10px; background: #DFF0D8; \">\n",
    "\n",
    "<h2> Exercise 3b: Get per-trial responses  </h2>\n",
    "    \n",
    "Here, we need to make a decision about how to bin time for each trial. How large should the trial window be? Should it extend beyond the lenght of the trail? Why? "
   ]
  },
  {
   "cell_type": "code",
   "execution_count": 11,
   "id": "a8fa4761",
   "metadata": {},
   "outputs": [],
   "source": [
    "# Load the events\n",
    "events = boc.get_ophys_experiment_events(session_id)\n",
    "num_cells = events.shape[0]"
   ]
  },
  {
   "cell_type": "code",
   "execution_count": 12,
   "id": "8f5d7615",
   "metadata": {},
   "outputs": [],
   "source": [
    "# Choose a window. \n",
    "# We will (somewhat arbitrarily) start with 15 frames, or about 1/2 secons\n",
    "window = 15"
   ]
  },
  {
   "cell_type": "code",
   "execution_count": 13,
   "id": "d7663947",
   "metadata": {},
   "outputs": [],
   "source": [
    "# Get the average response amplitude on each trial\n",
    "responses = np.zeros((len(stim_table),num_cells))\n",
    "for ii,row in stim_table.iterrows():\n",
    "    for cc in range(num_cells):\n",
    "         responses[ii,cc] = events[cc,row.start:row.start+window].mean()"
   ]
  },
  {
   "cell_type": "markdown",
   "id": "48a9ed68",
   "metadata": {},
   "source": [
    "<div style=\"border-left: 3px solid #000; padding: 1px; padding-left: 10px; background: #DFF0D8; \">\n",
    "\n",
    "<h2> Exercise 3c: Build a design matrix using this stimulus</h2>\n",
    "    \n",
    "We can represent each frame in the 2 dimension image by \"flattening\" the image into the vector. Stacking these vectors will allow us to build a design matrix."
   ]
  },
  {
   "cell_type": "code",
   "execution_count": 14,
   "id": "0f381d68",
   "metadata": {},
   "outputs": [
    {
     "data": {
      "text/plain": [
       "(8, 14)"
      ]
     },
     "execution_count": 14,
     "metadata": {},
     "output_type": "execute_result"
    }
   ],
   "source": [
    "# What is the shape of one frame?\n",
    "stimulus_template[0].shape"
   ]
  },
  {
   "cell_type": "code",
   "execution_count": 15,
   "id": "6a22e974",
   "metadata": {},
   "outputs": [
    {
     "data": {
      "text/plain": [
       "(112,)"
      ]
     },
     "execution_count": 15,
     "metadata": {},
     "output_type": "execute_result"
    }
   ],
   "source": [
    "# What does this look like flattened?\n",
    "flat_stim = stimulus_template[0].flatten()\n",
    "flat_stim.shape"
   ]
  },
  {
   "cell_type": "code",
   "execution_count": 16,
   "id": "955a5b7e",
   "metadata": {},
   "outputs": [
    {
     "data": {
      "text/plain": [
       "Text(0, 0.5, 'pixel intensity')"
      ]
     },
     "execution_count": 16,
     "metadata": {},
     "output_type": "execute_result"
    },
    {
     "data": {
      "image/png": "[encoded data removed]",
      "text/plain": [
       "<Figure size 432x288 with 1 Axes>"
      ]
     },
     "metadata": {
      "needs_background": "light"
     },
     "output_type": "display_data"
    }
   ],
   "source": [
    "fig,ax = plt.subplots()\n",
    "ax.plot(flat_stim)\n",
    "ax.set_xlabel('pixel id')\n",
    "ax.set_ylabel('pixel intensity')"
   ]
  },
  {
   "cell_type": "code",
   "execution_count": 17,
   "id": "db68ce6e",
   "metadata": {},
   "outputs": [
    {
     "data": {
      "text/plain": [
       "array([[255., 127., 127., ..., 127., 127., 127.],\n",
       "       [127., 127., 127., ..., 127., 127., 127.],\n",
       "       [127., 127., 127., ..., 127., 127., 127.],\n",
       "       ...,\n",
       "       [127., 127., 127., ..., 127., 127., 127.],\n",
       "       [127., 127., 127., ..., 127., 127.,   0.],\n",
       "       [127., 127., 127., ..., 127., 127., 127.]])"
      ]
     },
     "execution_count": 17,
     "metadata": {},
     "output_type": "execute_result"
    }
   ],
   "source": [
    "# Do this for every trial\n",
    "design_matrix = np.zeros((len(stim_table),len(flat_stim)))\n",
    "for ii in range(len(stim_table)):\n",
    "    design_matrix[ii,:] = stimulus_template[ii].flatten()\n",
    "design_matrix"
   ]
  },
  {
   "cell_type": "code",
   "execution_count": 18,
   "id": "2cf3a2df",
   "metadata": {},
   "outputs": [],
   "source": [
    "# For ease of interpetability, change white values to 1s, greys to 0, and blacks to -1:\n",
    "design_matrix[design_matrix==255] = 1\n",
    "design_matrix[design_matrix==0] = -1\n",
    "design_matrix[design_matrix==127]=0"
   ]
  },
  {
   "cell_type": "code",
   "execution_count": 19,
   "id": "8a49259d",
   "metadata": {},
   "outputs": [
    {
     "data": {
      "text/plain": [
       "Text(0, 0.5, 'pixel intensity')"
      ]
     },
     "execution_count": 19,
     "metadata": {},
     "output_type": "execute_result"
    },
    {
     "data": {
      "image/png": "[encoded data removed]",
      "text/plain": [
       "<Figure size 432x288 with 1 Axes>"
      ]
     },
     "metadata": {
      "needs_background": "light"
     },
     "output_type": "display_data"
    }
   ],
   "source": [
    "# Check that worked\n",
    "fig,ax = plt.subplots()\n",
    "plt.plot(design_matrix[0,:])\n",
    "ax.set_xlabel('pixel id')\n",
    "ax.set_ylabel('pixel intensity')"
   ]
  },
  {
   "cell_type": "code",
   "execution_count": 20,
   "id": "24855223",
   "metadata": {},
   "outputs": [
    {
     "data": {
      "text/plain": [
       "<matplotlib.colorbar.Colorbar at 0x7fc39a89aac0>"
      ]
     },
     "execution_count": 20,
     "metadata": {},
     "output_type": "execute_result"
    },
    {
     "data": {
      "image/png": "[encoded data removed]",
      "text/plain": [
       "<Figure size 432x288 with 2 Axes>"
      ]
     },
     "metadata": {
      "needs_background": "light"
     },
     "output_type": "display_data"
    }
   ],
   "source": [
    "# what does this look like?\n",
    "# Its too big to plot the whole thing, but lets look at a section; \n",
    "# The first 150 rows is a good start\n",
    "fig,ax = plt.subplots()\n",
    "h = ax.imshow(design_matrix[:150,:])\n",
    "ax.set_xlabel('pixel id')\n",
    "ax.set_ylabel('trial #')\n",
    "plt.colorbar(h)"
   ]
  },
  {
   "cell_type": "markdown",
   "id": "f0df16e3",
   "metadata": {},
   "source": [
    "<div style=\"border-left: 3px solid #000; padding: 1px; padding-left: 10px; background: #DFF0D8; \">\n",
    "\n",
    "<h2> Exercise 3d: Split your data into training and testing sets</h2>"
   ]
  },
  {
   "cell_type": "code",
   "execution_count": 21,
   "id": "49a2439e",
   "metadata": {},
   "outputs": [],
   "source": [
    "# Import model fitting code\n",
    "from sklearn.model_selection import train_test_split\n",
    "# Split\n",
    "train_matrix,test_matrix,train_response,test_response = train_test_split(design_matrix,\n",
    "                                                                         responses,\n",
    "                                                                         test_size=.5)"
   ]
  },
  {
   "cell_type": "markdown",
   "id": "e62e037c",
   "metadata": {},
   "source": [
    "<div style=\"border-left: 3px solid #000; padding: 1px; padding-left: 10px; background: #DFF0D8; \">\n",
    "\n",
    "<h2> Exercise 3e: Fit a model. </h2>\n",
    "    \n",
    "<p>\n",
    "We recomend cell_specimine_id  = 662194111, but try several!\n",
    "   \n",
    "    <p>\n",
    "Try plotting the model coefficients. Because we flattened the stimulus frame early, you will need to use np.reshape to get the vectorized coefficients back into the shape of the original frame in the stimulus template. What does the pattern tell you? \n",
    "        \n"
   ]
  },
  {
   "cell_type": "code",
   "execution_count": 22,
   "id": "7a36ddea",
   "metadata": {},
   "outputs": [],
   "source": [
    "from sklearn.linear_model import LinearRegression\n",
    "LR = LinearRegression()\n"
   ]
  },
  {
   "cell_type": "code",
   "execution_count": 23,
   "id": "29ee072a",
   "metadata": {},
   "outputs": [],
   "source": [
    "cell_idx = data_set.get_cell_specimen_indices([662194111])\n"
   ]
  },
  {
   "cell_type": "code",
   "execution_count": 24,
   "id": "09a3589f",
   "metadata": {},
   "outputs": [
    {
     "data": {
      "text/html": [
       "<style>#sk-container-id-1 {color: black;}#sk-container-id-1 pre{padding: 0;}#sk-container-id-1 div.sk-toggleable {background-color: white;}#sk-container-id-1 label.sk-toggleable__label {cursor: pointer;display: block;width: 100%;margin-bottom: 0;padding: 0.3em;box-sizing: border-box;text-align: center;}#sk-container-id-1 label.sk-toggleable__label-arrow:before {content: \"▸\";float: left;margin-right: 0.25em;color: #696969;}#sk-container-id-1 label.sk-toggleable__label-arrow:hover:before {color: black;}#sk-container-id-1 div.sk-estimator:hover label.sk-toggleable__label-arrow:before {color: black;}#sk-container-id-1 div.sk-toggleable__content {max-height: 0;max-width: 0;overflow: hidden;text-align: left;background-color: #f0f8ff;}#sk-container-id-1 div.sk-toggleable__content pre {margin: 0.2em;color: black;border-radius: 0.25em;background-color: #f0f8ff;}#sk-container-id-1 input.sk-toggleable__control:checked~div.sk-toggleable__content {max-height: 200px;max-width: 100%;overflow: auto;}#sk-container-id-1 input.sk-toggleable__control:checked~label.sk-toggleable__label-arrow:before {content: \"▾\";}#sk-container-id-1 div.sk-estimator input.sk-toggleable__control:checked~label.sk-toggleable__label {background-color: #d4ebff;}#sk-container-id-1 div.sk-label input.sk-toggleable__control:checked~label.sk-toggleable__label {background-color: #d4ebff;}#sk-container-id-1 input.sk-hidden--visually {border: 0;clip: rect(1px 1px 1px 1px);clip: rect(1px, 1px, 1px, 1px);height: 1px;margin: -1px;overflow: hidden;padding: 0;position: absolute;width: 1px;}#sk-container-id-1 div.sk-estimator {font-family: monospace;background-color: #f0f8ff;border: 1px dotted black;border-radius: 0.25em;box-sizing: border-box;margin-bottom: 0.5em;}#sk-container-id-1 div.sk-estimator:hover {background-color: #d4ebff;}#sk-container-id-1 div.sk-parallel-item::after {content: \"\";width: 100%;border-bottom: 1px solid gray;flex-grow: 1;}#sk-container-id-1 div.sk-label:hover label.sk-toggleable__label {background-color: #d4ebff;}#sk-container-id-1 div.sk-serial::before {content: \"\";position: absolute;border-left: 1px solid gray;box-sizing: border-box;top: 0;bottom: 0;left: 50%;z-index: 0;}#sk-container-id-1 div.sk-serial {display: flex;flex-direction: column;align-items: center;background-color: white;padding-right: 0.2em;padding-left: 0.2em;position: relative;}#sk-container-id-1 div.sk-item {position: relative;z-index: 1;}#sk-container-id-1 div.sk-parallel {display: flex;align-items: stretch;justify-content: center;background-color: white;position: relative;}#sk-container-id-1 div.sk-item::before, #sk-container-id-1 div.sk-parallel-item::before {content: \"\";position: absolute;border-left: 1px solid gray;box-sizing: border-box;top: 0;bottom: 0;left: 50%;z-index: -1;}#sk-container-id-1 div.sk-parallel-item {display: flex;flex-direction: column;z-index: 1;position: relative;background-color: white;}#sk-container-id-1 div.sk-parallel-item:first-child::after {align-self: flex-end;width: 50%;}#sk-container-id-1 div.sk-parallel-item:last-child::after {align-self: flex-start;width: 50%;}#sk-container-id-1 div.sk-parallel-item:only-child::after {width: 0;}#sk-container-id-1 div.sk-dashed-wrapped {border: 1px dashed gray;margin: 0 0.4em 0.5em 0.4em;box-sizing: border-box;padding-bottom: 0.4em;background-color: white;}#sk-container-id-1 div.sk-label label {font-family: monospace;font-weight: bold;display: inline-block;line-height: 1.2em;}#sk-container-id-1 div.sk-label-container {text-align: center;}#sk-container-id-1 div.sk-container {/* jupyter's `normalize.less` sets `[hidden] { display: none; }` but bootstrap.min.css set `[hidden] { display: none !important; }` so we also need the `!important` here to be able to override the default hidden behavior on the sphinx rendered scikit-learn.org. See: https://github.com/scikit-learn/scikit-learn/issues/21755 */display: inline-block !important;position: relative;}#sk-container-id-1 div.sk-text-repr-fallback {display: none;}</style><div id=\"sk-container-id-1\" class=\"sk-top-container\"><div class=\"sk-text-repr-fallback\"><pre>LinearRegression()</pre><b>In a Jupyter environment, please rerun this cell to show the HTML representation or trust the notebook. <br />On GitHub, the HTML representation is unable to render, please try loading this page with nbviewer.org.</b></div><div class=\"sk-container\" hidden><div class=\"sk-item\"><div class=\"sk-estimator sk-toggleable\"><input class=\"sk-toggleable__control sk-hidden--visually\" id=\"sk-estimator-id-1\" type=\"checkbox\" checked><label for=\"sk-estimator-id-1\" class=\"sk-toggleable__label sk-toggleable__label-arrow\">LinearRegression</label><div class=\"sk-toggleable__content\"><pre>LinearRegression()</pre></div></div></div></div></div>"
      ],
      "text/plain": [
       "LinearRegression()"
      ]
     },
     "execution_count": 24,
     "metadata": {},
     "output_type": "execute_result"
    }
   ],
   "source": [
    "# Fit model\n",
    "LR.fit(train_matrix,train_response[:,cell_idx])"
   ]
  },
  {
   "cell_type": "code",
   "execution_count": 25,
   "id": "282d428d",
   "metadata": {},
   "outputs": [],
   "source": [
    "# Get the coefs\n",
    "coef = LR.coef_.reshape(stimulus_template[0].shape)"
   ]
  },
  {
   "cell_type": "code",
   "execution_count": 26,
   "id": "f1bc1e16",
   "metadata": {},
   "outputs": [
    {
     "name": "stdout",
     "output_type": "stream",
     "text": [
      "R^2 train-->train: 0.14681385863945162\n",
      "R^2 train-->train: 0.17428178306696318\n"
     ]
    }
   ],
   "source": [
    "# Print scores\n",
    "print('R^2 train-->train: ' + str(LR.score(train_matrix,train_response[:,cell_idx])))\n",
    "print('R^2 train-->train: ' + str(LR.score(test_matrix,test_response[:,cell_idx])))"
   ]
  },
  {
   "cell_type": "code",
   "execution_count": 27,
   "id": "7e7f706c",
   "metadata": {},
   "outputs": [
    {
     "data": {
      "image/png": "[encoded data removed]",
      "text/plain": [
       "<Figure size 432x288 with 2 Axes>"
      ]
     },
     "metadata": {
      "needs_background": "light"
     },
     "output_type": "display_data"
    }
   ],
   "source": [
    "# Plot the coefficients\n",
    "fig,ax = plt.subplots()\n",
    "h = ax.imshow(coef)\n",
    "cbar = plt.colorbar(h)\n",
    "ax.set_xlabel('X pixel')\n",
    "ax.set_ylabel('Y pixel')\n",
    "cbar.set_label('Coef Weight')"
   ]
  },
  {
   "cell_type": "markdown",
   "id": "19495208",
   "metadata": {},
   "source": [
    "<div style=\"border-left: 3px solid #000; padding: 1px; padding-left: 10px; background: #DFF0D8; \">\n",
    "\n",
    "<h2> Exercise 3f: Fit a model for all the cells in the session</h2>\n",
    "\n",
    "<p> Plot the coefficients for the most and least reliable models. What do you notice about the population of responses?\n",
    "   "
   ]
  },
  {
   "cell_type": "code",
   "execution_count": 28,
   "id": "873c1016",
   "metadata": {},
   "outputs": [],
   "source": [
    "train_r2 = np.zeros(num_cells)\n",
    "test_r2 = np.zeros(num_cells)\n",
    "coefs = np.zeros((num_cells,len(coef.flatten())))\n",
    "\n",
    "for ii in range(num_cells):\n",
    "    LR = LinearRegression()\n",
    "    LR.fit(train_matrix,train_response[:,ii])\n",
    "    # Get the coefs\n",
    "    coefs[ii,:] = LR.coef_\n",
    "    train_r2[ii] = LR.score(train_matrix,train_response[:,ii])\n",
    "    test_r2[ii] = LR.score(test_matrix,test_response[:,ii])\n"
   ]
  },
  {
   "cell_type": "code",
   "execution_count": 29,
   "id": "5d212250",
   "metadata": {},
   "outputs": [
    {
     "data": {
      "text/plain": [
       "Text(0, 0.5, 'Test R2')"
      ]
     },
     "execution_count": 29,
     "metadata": {},
     "output_type": "execute_result"
    },
    {
     "data": {
      "image/png": "[encoded data removed]",
      "text/plain": [
       "<Figure size 432x288 with 1 Axes>"
      ]
     },
     "metadata": {
      "needs_background": "light"
     },
     "output_type": "display_data"
    }
   ],
   "source": [
    "fig,ax = plt.subplots()\n",
    "ax.scatter(train_r2,test_r2)\n",
    "ax.scatter(train_r2[cell_idx],test_r2[cell_idx],c = 'r')\n",
    "\n",
    "mnlim = np.min(np.concatenate([train_r2,test_r2]))\n",
    "mxlim = np.max(np.concatenate([train_r2,test_r2]))\n",
    "\n",
    "ax.set_xlim([mnlim,mxlim])\n",
    "ax.set_ylim([mnlim,mxlim])\n",
    "ax.axhline(0,c = 'k')\n",
    "ax.axvline(0,c = 'k')\n",
    "ax.plot([-1,1],[-1,1],'k--')\n",
    "ax.set_xlabel('Train R2')\n",
    "ax.set_ylabel('Test R2')"
   ]
  },
  {
   "cell_type": "code",
   "execution_count": 30,
   "id": "d2d61f58",
   "metadata": {},
   "outputs": [
    {
     "data": {
      "image/png": "[encoded data removed]",
      "text/plain": [
       "<Figure size 720x360 with 6 Axes>"
      ]
     },
     "metadata": {
      "needs_background": "light"
     },
     "output_type": "display_data"
    }
   ],
   "source": [
    "order = np.argsort(test_r2)\n",
    "fig,ax = plt.subplots(ncols=3,nrows = 2,figsize = (10,5))\n",
    "for ii in range(3):\n",
    "    ax[0,ii].imshow(coefs[order[-(ii+1)],:].reshape(coef.shape))\n",
    "    ax[0,ii].set_title('#'+str(ii+1) + ' Most Reliable')\n",
    "    ax[0,ii].set_xlabel('x pixel')\n",
    "    ax[0,ii].set_ylabel('y pixel')\n",
    "\n",
    "for ii in range(3):\n",
    "    ax[1,ii].imshow(coefs[order[ii],:].reshape(coef.shape))\n",
    "    ax[1,ii].set_title('#'+str(ii+1) + ' Least Reliable')\n",
    "    ax[1,ii].set_xlabel('x pixel')\n",
    "    ax[1,ii].set_ylabel('y pixel')"
   ]
  },
  {
   "cell_type": "markdown",
   "id": "89bcba11",
   "metadata": {},
   "source": [
    "<div style=\"border-left: 3px solid #000; padding: 1px; padding-left: 10px; background: #DFF0D8; \">\n",
    "\n",
    "<h2> Exercise 4: What else might be encoded in visual cortex?</h2>\n",
    "    \n",
    "Try to see if you can find a neuron that reliable encodes another of the presented stimulus sets. \n",
    "    \n",
    "Some places to try:\n",
    "<ul>\n",
    "  <li>Tempral frequencies: We filtered this mornings data to select only one temporal frequncy. Was there temporal frequency tuning as well?</li>\n",
    "  <li>Natural Scenes: Scenes were shown more than one time. Are there cells with consistant responses across presentations? </li>\n",
    "  <li>Natural Movies: Are there cells with a consistant response timecourse as a move unfolds?</li>\n",
    "</ul>\n",
    "    \n",
    "Answering each of these questions will require thoughts about the assumtions you make about the data. For example, what time window makes sense to use? Given the timecourse of Ca2+ data, should you include time after a stimulus for short presentations? Similarly, how might you bin data in a natural movie? "
   ]
  },
  {
   "cell_type": "code",
   "execution_count": null,
   "id": "05b67018",
   "metadata": {},
   "outputs": [],
   "source": []
  },
  {
   "cell_type": "markdown",
   "id": "11af4683",
   "metadata": {},
   "source": [
    "<div style=\"border-left: 3px solid #000; padding: 1px; padding-left: 10px; background: #DFF0D8; \">\n",
    "\n",
    "<h2> Exercise 5: The Bootstrap - Another way to assess reliability</h2>\n",
    "  \n",
    "<p>\n",
    "In this morning's tutiorial, we saw the use of one particular statistic, the direction selectivity index, or DSI. We also saw the key problem with DSI and many similar metrics - they will tell you how selective a cell is (on average) to a particular stimulus, but not how reliable this selectivity is.\n",
    "    </p>   \n",
    "<p>\n",
    "One approach to address this problem is to ask the hypotheical, \"What would this metric be for my cell if my cell's repsonses were independent of the stimulus?\" By breaking the relationship between a stimulus and a cells response, we can get sense of whether our observed metric was higher than what we might have expected by chance. \n",
    "    </p>    \n",
    "\n",
    "<p>\n",
    "We can break this relationship by shuffling the cell's response relative to whatever value in the stimulus we want to test. Because we have already collected the data, we can shuffle the same data set many times to build a distribtuion of \"null\" values, and look at where our observed value falls in this distribuition. \n",
    "    </p>\n",
    "    \n",
    "\n",
    "<p>\n",
    "This is a version of a technique known as \"bootstraping,\" because our resampling allows us to \"pull our data up by its bootstraps\" - resample our data without needing to collect more.\n",
    "</p>\n",
    "    \n",
    "    \n",
    "<p>\n",
    "While bootstrapping does not explicilty quanitify reliability, it is an indirect way of assessing it. If a cell has a reliable response to a particular stimulus, shuffling the stimulus identity will greatly reduce the DSI. On th\n",
    "\n",
    "<p>\n",
    "Here, lets try some bootstrapping using the data from this mornings session. Convienently, we have already saved these data in a way that will make them easy to work with for this exercise:\n"
   ]
  },
  {
   "cell_type": "code",
   "execution_count": 31,
   "id": "5b53c280",
   "metadata": {},
   "outputs": [],
   "source": [
    "# Load data from workshop\n",
    "import os\n",
    "\n",
    "session_id = 637998955\n",
    "load_loc = os.path.join('/scratch','Workshop1')\n",
    "\n",
    "orientation = np.load(os.path.join(load_loc,str(session_id)+'_orientation.npy'))\n",
    "temp_freq = np.load(os.path.join(load_loc,str(session_id)+'_temp_freq.npy'))\n",
    "mean_response_all = np.load(os.path.join(load_loc,str(session_id)+'_mean_response_all.npy'))\n",
    "\n",
    "#filter for temp_freq = 1:\n",
    "orientation = orientation[temp_freq==1]\n",
    "mean_response_all = mean_response_all[temp_freq==1,:]\n",
    "temp_freq = temp_freq[temp_freq==1]\n",
    "\n",
    "# Get all orientations\n",
    "orientations = np.unique(orientation)"
   ]
  },
  {
   "cell_type": "code",
   "execution_count": 32,
   "id": "8a7d1290",
   "metadata": {},
   "outputs": [
    {
     "ename": "AttributeError",
     "evalue": "'DataFrame' object has no attribute 'orientation'",
     "output_type": "error",
     "traceback": [
      "\u001b[0;31m---------------------------------------------------------------------------\u001b[0m",
      "\u001b[0;31mAttributeError\u001b[0m                            Traceback (most recent call last)",
      "\u001b[0;32m<ipython-input-32-61f63ab2fc39>\u001b[0m in \u001b[0;36m<module>\u001b[0;34m\u001b[0m\n\u001b[1;32m      4\u001b[0m \u001b[0;34m\u001b[0m\u001b[0m\n\u001b[1;32m      5\u001b[0m \u001b[0;32mfor\u001b[0m \u001b[0mii\u001b[0m \u001b[0;32min\u001b[0m \u001b[0mrange\u001b[0m\u001b[0;34m(\u001b[0m\u001b[0mlen\u001b[0m\u001b[0;34m(\u001b[0m\u001b[0mstim_table\u001b[0m\u001b[0;34m)\u001b[0m\u001b[0;34m)\u001b[0m\u001b[0;34m:\u001b[0m\u001b[0;34m\u001b[0m\u001b[0;34m\u001b[0m\u001b[0m\n\u001b[0;32m----> 6\u001b[0;31m     \u001b[0morientation\u001b[0m\u001b[0;34m[\u001b[0m\u001b[0mii\u001b[0m\u001b[0;34m]\u001b[0m \u001b[0;34m=\u001b[0m \u001b[0mstim_table\u001b[0m\u001b[0;34m.\u001b[0m\u001b[0morientation\u001b[0m\u001b[0;34m[\u001b[0m\u001b[0mii\u001b[0m\u001b[0;34m]\u001b[0m\u001b[0;34m\u001b[0m\u001b[0;34m\u001b[0m\u001b[0m\n\u001b[0m\u001b[1;32m      7\u001b[0m     \u001b[0mtemp_freq\u001b[0m\u001b[0;34m[\u001b[0m\u001b[0mii\u001b[0m\u001b[0;34m]\u001b[0m \u001b[0;34m=\u001b[0m \u001b[0mstim_table\u001b[0m\u001b[0;34m.\u001b[0m\u001b[0mtemporal_frequency\u001b[0m\u001b[0;34m[\u001b[0m\u001b[0mii\u001b[0m\u001b[0;34m]\u001b[0m\u001b[0;34m\u001b[0m\u001b[0;34m\u001b[0m\u001b[0m\n\u001b[1;32m      8\u001b[0m \u001b[0;34m\u001b[0m\u001b[0m\n",
      "\u001b[0;32m/opt/conda/lib/python3.8/site-packages/pandas/core/generic.py\u001b[0m in \u001b[0;36m__getattr__\u001b[0;34m(self, name)\u001b[0m\n\u001b[1;32m   5987\u001b[0m         ):\n\u001b[1;32m   5988\u001b[0m             \u001b[0;32mreturn\u001b[0m \u001b[0mself\u001b[0m\u001b[0;34m[\u001b[0m\u001b[0mname\u001b[0m\u001b[0;34m]\u001b[0m\u001b[0;34m\u001b[0m\u001b[0;34m\u001b[0m\u001b[0m\n\u001b[0;32m-> 5989\u001b[0;31m         \u001b[0;32mreturn\u001b[0m \u001b[0mobject\u001b[0m\u001b[0;34m.\u001b[0m\u001b[0m__getattribute__\u001b[0m\u001b[0;34m(\u001b[0m\u001b[0mself\u001b[0m\u001b[0;34m,\u001b[0m \u001b[0mname\u001b[0m\u001b[0;34m)\u001b[0m\u001b[0;34m\u001b[0m\u001b[0;34m\u001b[0m\u001b[0m\n\u001b[0m\u001b[1;32m   5990\u001b[0m \u001b[0;34m\u001b[0m\u001b[0m\n\u001b[1;32m   5991\u001b[0m     \u001b[0;32mdef\u001b[0m \u001b[0m__setattr__\u001b[0m\u001b[0;34m(\u001b[0m\u001b[0mself\u001b[0m\u001b[0;34m,\u001b[0m \u001b[0mname\u001b[0m\u001b[0;34m:\u001b[0m \u001b[0mstr\u001b[0m\u001b[0;34m,\u001b[0m \u001b[0mvalue\u001b[0m\u001b[0;34m)\u001b[0m \u001b[0;34m->\u001b[0m \u001b[0;32mNone\u001b[0m\u001b[0;34m:\u001b[0m\u001b[0;34m\u001b[0m\u001b[0;34m\u001b[0m\u001b[0m\n",
      "\u001b[0;31mAttributeError\u001b[0m: 'DataFrame' object has no attribute 'orientation'"
     ]
    }
   ],
   "source": [
    "orientation = np.zeros((len(stim_table)))\n",
    "temp_freq = np.zeros((len(stim_table)))\n",
    "mean_response_all = np.zeros((len(stim_table),events.shape[0]))\n",
    "\n",
    "for ii in range(len(stim_table)):\n",
    "    orientation[ii] = stim_table.orientation[ii]\n",
    "    temp_freq[ii] = stim_table.temporal_frequency[ii]\n",
    "    \n",
    "    for cc in range(events.shape[0]):\n",
    "        this_response =  events[cc,stim_table.start[ii]:stim_table.start[ii]+60] # time course of the response for all cells (for this stimulus)\n",
    "        mean_response_all[ii,cc] = this_response.mean() # mean event occurrence over the 60 sec. time window for all cells (for this stimulus)\n",
    "        \n",
    "#filter for temp_freq = 1:\n",
    "orientation = orientation[temp_freq==1]\n",
    "mean_response_all = mean_response_all[temp_freq==1,:]\n",
    "temp_freq = temp_freq[temp_freq==1]\n",
    "\n",
    "# Get all orientations\n",
    "orientations = np.unique(orientation)"
   ]
  },
  {
   "cell_type": "code",
   "execution_count": null,
   "id": "6751e4a7",
   "metadata": {},
   "outputs": [],
   "source": [
    "def dsi(ori_vals,tuning):\n",
    "    \"\"\"\n",
    "    Computes the direction selectivity of a cell. \n",
    "    De Vries 2019\n",
    "\n",
    "    Parameters\n",
    "    ----------\n",
    "    ori_vals : float array of length N\n",
    "         List of orientation values, in degrees\n",
    "    tuning : float array of length N\n",
    "        Each value the (averaged) response of the cell at a different\n",
    "        orientation, in the same order as ori_vals\n",
    "\n",
    "    Returns\n",
    "    -------\n",
    "    dsi : float\n",
    "        Direction selectivity Index\n",
    "    \"\"\"\n",
    "    # Find the index of the max response\n",
    "    pref_idx = np.argmax(tuning) \n",
    "    # Find the prefered direction\n",
    "    pref_dir = ori_vals[pref_idx] \n",
    "    # and prefered response.\n",
    "    R_pref = tuning[pref_idx]\n",
    "    \n",
    "    # Null direction is opposing, so 180 degress from prefered\n",
    "    # Here % sign is the modulus, so wraps around 360.\n",
    "    null_dir = (pref_dir +180)%360 \n",
    "    # Find the index of the null direction\n",
    "    null_idx = list(ori_vals).index(null_dir)\n",
    "    # Find the null response\n",
    "    R_null = tuning[null_idx]\n",
    "    \n",
    "    return (R_pref-R_null)/(R_pref+R_null)\n",
    "\n",
    "def compute_tuning_curve(mean_response,orientation,orientations):\n",
    "    \"\"\"\n",
    "    Compute the tuning curve for a set of reponses and orientations\n",
    "    \n",
    "    Parameters\n",
    "    ----------\n",
    "    mean_response : np.array\n",
    "        The mean response for each stimulus\n",
    "    orientation : np.array\n",
    "        Orientation of each stimulus\n",
    "    orientations: np.array\n",
    "        All orientations to compute tuning over\n",
    "        Useful when a subset of orientations are needed.\n",
    "    \n",
    "    Returns\n",
    "    -------\n",
    "    tuning : np.array\n",
    "        mean response at each orientation\n",
    "    stdev: np.array \n",
    "        Standard deviation of responses at each orientation\n",
    "    \"\"\"\n",
    "    tuning = np.zeros(orientations.shape)\n",
    "    stdev = np.zeros(orientations.shape)\n",
    "    for ii,ori in enumerate(orientations):\n",
    "        tuning[ii] = mean_response[orientation==ori].mean()\n",
    "        stdev[ii] = mean_response[orientation==ori].std()\n",
    "    return tuning,stdev\n",
    "    "
   ]
  },
  {
   "cell_type": "markdown",
   "id": "650d1c64",
   "metadata": {},
   "source": [
    "<div style=\"border-left: 3px solid #000; padding: 1px; padding-left: 10px; background: #DFF0D8; \">\n",
    "\n",
    "<h2> Exercise 5a: Compute DSI</h2>"
   ]
  },
  {
   "cell_type": "code",
   "execution_count": null,
   "id": "4a07a926",
   "metadata": {},
   "outputs": [],
   "source": [
    "# Lets grab the same cell we were using before\n",
    "cell_idx = 17"
   ]
  },
  {
   "cell_type": "markdown",
   "id": "7af0d07a",
   "metadata": {},
   "source": [
    "<div style=\"border-left: 3px solid #000; padding: 1px; padding-left: 10px; background: #DFF0D8; \">\n",
    "\n",
    "Compute the dsi for this cell. Note that here we used the full session whereas this morning we used only the first half, which is why this number is not exactly the same."
   ]
  },
  {
   "cell_type": "code",
   "execution_count": null,
   "id": "5b1c1b60",
   "metadata": {},
   "outputs": [],
   "source": [
    "tuning,_ = compute_tuning_curve(mean_response_all[:,cell_idx],orientation,orientations)\n",
    "observed_dsi = dsi(orientations,tuning) \n",
    "observed_dsi"
   ]
  },
  {
   "cell_type": "markdown",
   "id": "6e0b6bf5",
   "metadata": {},
   "source": [
    "<div style=\"border-left: 3px solid #000; padding: 1px; padding-left: 10px; background: #DFF0D8; \">\n",
    "\n",
    "Now lets shuffle responses, and recompute the DSI. How does it compare?\n",
    "    \n",
    "How you shuffle your data is an important part of what you will learn with any bootstrapping analysis. Here, we are randomly permuting cell responses, so that the statistics of the cell remain the same but the stimulus relationship is broken. However, randomly shifting reponses in time would have achieved the same effect, while preserving the cells temporal statistics as well. When choosing shuffling techniques, it is important to think about and understand what relationship(s) is/are being broken by your shuffling - these are what you will assess with your analysis."
   ]
  },
  {
   "cell_type": "code",
   "execution_count": null,
   "id": "181ccb97",
   "metadata": {},
   "outputs": [],
   "source": [
    "shuffled_responses = np.random.permutation(mean_response_all[:,cell_idx])\n",
    "shuffled_tuning,_ = compute_tuning_curve(shuffled_responses,orientation,orientations)\n",
    "shuffled_dsi = dsi(orientations,shuffled_tuning)\n",
    "shuffled_dsi"
   ]
  },
  {
   "cell_type": "markdown",
   "id": "5c09add6",
   "metadata": {},
   "source": [
    "<div style=\"border-left: 3px solid #000; padding: 1px; padding-left: 10px; background: #DFF0D8; \">\n",
    "\n",
    "<h2> Exercise 5b: Build a distribution</h2>\n",
    "    \n",
    "Using the for loop below, build a distribtion of shuffled responses for this cell. Plot the histogram of these data, and compare this to the observed DSI value for this cell."
   ]
  },
  {
   "cell_type": "code",
   "execution_count": null,
   "id": "7212ae1c",
   "metadata": {},
   "outputs": [],
   "source": [
    "# Solution\n",
    "n_shuffles= 10000\n",
    "shuffled_dsi = np.zeros(n_shuffles)\n",
    "for ii in range(n_shuffles):\n",
    "    # Shuffle responses\n",
    "    shuffled_responses = np.random.permutation(mean_response_all[:,cell_idx])\n",
    "    # Compute tuning curve with shuffled data\n",
    "    shuffled_tuning,_ = compute_tuning_curve(shuffled_responses,orientation,orientations)\n",
    "    # And the dsi for the shuffled tuning\n",
    "    shuffled_dsi[ii] = dsi(orientations,shuffled_tuning)\n"
   ]
  },
  {
   "cell_type": "code",
   "execution_count": null,
   "id": "2fcf27de",
   "metadata": {},
   "outputs": [],
   "source": [
    "# Solution\n",
    "fig,ax = plt.subplots()\n",
    "ax.hist(shuffled_dsi,100,label = 'Shuffled DSI')\n",
    "ax.axvline(observed_dsi,c = 'r',label = 'Observed DSI')\n",
    "ax.set_xlabel('DSI')\n",
    "ax.set_ylabel('# of shuffles');\n",
    "ax.legend();\n"
   ]
  },
  {
   "cell_type": "markdown",
   "id": "a3bd7239",
   "metadata": {},
   "source": [
    "<div style=\"border-left: 3px solid #000; padding: 1px; padding-left: 10px; background: #DFF0D8; \">\n",
    "\n",
    "<h2> Exercise 5c: Significance test</h2>\n",
    "   \n",
    "    <p>\n",
    "Now that we have a distribtion, we can ask \"What is the probabliltiy that we would have observed this DSI value if there were not relationship to orientation tuning?\" This is, by definition, a p-value for our cells tuning. Like all pvalues, we can assess \"significance\" for our cell using a significance threshold. \n",
    "    </p>\n",
    "<p> \n",
    "Here, compute the p-value for this cell. Common signifcance thresholds are e.g. $p<.05$, $p<.01$. Did we pass?"
   ]
  },
  {
   "cell_type": "code",
   "execution_count": null,
   "id": "97a77832",
   "metadata": {},
   "outputs": [],
   "source": [
    "pval = 1-np.sum(shuffled_dsi<observed_dsi)/(n_shuffles+1)\n",
    "pval"
   ]
  },
  {
   "cell_type": "markdown",
   "id": "b52af4f1",
   "metadata": {},
   "source": [
    "<div style=\"border-left: 3px solid #000; padding: 1px; padding-left: 10px; background: #DFF0D8; \">\n",
    "\n",
    "<h2> Exercise 5d: Do this for the population</h2>\n",
    "    <p>\n",
    "        \n",
    "Now scale this analysis up for the population of cell in this recording session. For each cell, compute the observed DSI and this p-value. Using a signficance threshold of $p<.05$, plot the distributions of DSI for significant and non-significant cells.\n",
    "    </p>  \n",
    "    <p>\n",
    "    \n",
    "Note: One of the chalenges of bootstrapping is computational cost. We used 10,000 shuffles above, but this will take a few minutes if you do it for all your data. We recomend starting with 1000 shuffles here (but take a moment to think about what this might do to the result).\n",
    "    </p>"
   ]
  },
  {
   "cell_type": "code",
   "execution_count": null,
   "id": "e63bbf3e",
   "metadata": {
    "tags": []
   },
   "outputs": [],
   "source": [
    "# Solution\n",
    "num_cells =mean_response_all.shape[1]\n",
    "observed_dsi_all = np.zeros(num_cells) \n",
    "pvals = np.zeros(num_cells)\n",
    "\n",
    "# For faster computations\n",
    "n_shuffles = 1000\n",
    "\n",
    "for ii in range(num_cells):# Loop through cells\n",
    "    this_tuning,_ = compute_tuning_curve(mean_response_all[:,ii],orientation,orientations)\n",
    "    observed_dsi_all[ii] = dsi(orientations,this_tuning)\n",
    "    shuffled_dsi = np.zeros(n_shuffles)\n",
    "    \n",
    "    for jj in range(n_shuffles):\n",
    "        # Shuffle responses\n",
    "        shuffled_responses = np.random.permutation(mean_response_all[:,ii])\n",
    "        # Compute tuning curve with shuffled data\n",
    "        shuffled_tuning,_ = compute_tuning_curve(shuffled_responses,orientation,orientations)\n",
    "        # And the dsi for the shuffled tuning\n",
    "        shuffled_dsi[jj] = dsi(orientations,shuffled_tuning)\n",
    "    pvals[ii] = 1.-np.sum(shuffled_dsi<=observed_dsi_all[ii])/(n_shuffles+1)\n",
    "    print(pvals[ii])\n"
   ]
  },
  {
   "cell_type": "code",
   "execution_count": null,
   "id": "3c6bf203",
   "metadata": {
    "tags": []
   },
   "outputs": [],
   "source": [
    "# Solution\n",
    "fig,ax = plt.subplots()\n",
    "bins = np.arange(0,1,.05)\n",
    "ax.hist(observed_dsi_all[pvals>=.01],bins,alpha = .5,label = 'Not Sig')\n",
    "ax.hist(observed_dsi_all[pvals<.01],bins,alpha = .5,label = 'Sig')\n",
    "ax.set_xlabel('DSI')\n",
    "ax.set_ylabel('# Cells')\n",
    "ax.legend()"
   ]
  },
  {
   "cell_type": "markdown",
   "id": "51ea3bc3",
   "metadata": {},
   "source": [
    "<div style=\"border-left: 3px solid #000; padding: 1px; padding-left: 10px; background: #DFF0D8; \">\n",
    "\n",
    "<h2> Exercise 6: Running speed as a categorical variable.</h2>\n",
    " \n",
    "    <p>\n",
    "    Earlier we carried our regression model treating running speed as a continuous variable. But, the difference between running and not running might be far more consequential than changes in the value of running speed per se. This would motivate treating running speed as categorical variable, just as we have treated the stimulus orientations.  \n",
    "</p>   \n",
    "\n",
    "<p>\n",
    "Try repeating the regression analysis in this way. Do the results change? Is the answer sensitive to how we choose define our running threshold?\n",
    "</p>   "
   ]
  },
  {
   "cell_type": "code",
   "execution_count": null,
   "id": "7f784fd4",
   "metadata": {},
   "outputs": [],
   "source": [
    "# For simplicity, we'll demonstrate with the cell we used during the tutorial\n",
    "expt_container_id = 564425775\n",
    "cell_id = 570927732\n",
    "\n",
    "boc = BrainObservatoryCache(manifest_file=manifest_file)\n",
    "expt_session_info = boc.get_ophys_experiments(experiment_container_ids=[expt_container_id])\n",
    "expt_session_info_df = pd.DataFrame(expt_session_info)\n",
    "\n",
    "session_id = expt_session_info_df[expt_session_info_df.session_type=='three_session_A'].id.iloc[0]\n",
    "data_set = boc.get_ophys_experiment_data(ophys_experiment_id=session_id)\n",
    "\n",
    "#cell_idx = np.where(cell_id==gratings.cell_id)[0][0]\n",
    "cell_idx = 10 # randoml cell"
   ]
  },
  {
   "cell_type": "code",
   "execution_count": null,
   "id": "65bea245",
   "metadata": {},
   "outputs": [],
   "source": [
    "gratings = boc.get_ophys_experiment_analysis(ophys_experiment_id=session_id, stimulus_type='drifting_gratings')\n",
    "events = boc.get_ophys_experiment_events(ophys_experiment_id=session_id)#[cell_idx,:]\n",
    "stim_table = gratings.stim_table"
   ]
  },
  {
   "cell_type": "code",
   "execution_count": null,
   "id": "985161d0",
   "metadata": {},
   "outputs": [],
   "source": [
    "orientation = np.zeros((len(stim_table)))\n",
    "temp_freq = np.zeros((len(stim_table)))\n",
    "mean_response_all_cells = np.zeros((len(stim_table),len(gratings.cell_id)))\n",
    "\n",
    "for ii in range(len(stim_table)):\n",
    "    orientation[ii] = stim_table.orientation[ii]\n",
    "    temp_freq[ii] = stim_table.temporal_frequency[ii]\n",
    "    for cc in range(len(gratings.cell_id)):\n",
    "        this_response =  events[cc,stim_table.start[ii]:stim_table.start[ii]+60]\n",
    "        mean_response_all_cells[ii,cc] = this_response.mean()\n",
    "        "
   ]
  },
  {
   "cell_type": "code",
   "execution_count": null,
   "id": "de55416d",
   "metadata": {},
   "outputs": [],
   "source": [
    "orientation = orientation[temp_freq==2]\n",
    "mean_response_all_cells = mean_response_all_cells[temp_freq==2,:]"
   ]
  },
  {
   "cell_type": "code",
   "execution_count": null,
   "id": "5e161af6",
   "metadata": {},
   "outputs": [],
   "source": [
    "# Build a matrix for every stimulus condition\n",
    "stims = np.vstack([orientation]).T\n",
    "\n",
    "# Each stimulus condition has a unique identity\n",
    "stimuli,stim_index,counts = np.unique(stims,axis=0,return_counts=True,return_inverse=True)\n",
    "\n",
    "# Confirm that there should be 8 unique stimuli\n",
    "print(len(stimuli))"
   ]
  },
  {
   "cell_type": "code",
   "execution_count": null,
   "id": "1d6c32b4",
   "metadata": {},
   "outputs": [],
   "source": [
    "# Build the design matrix\n",
    "X = np.zeros((len(stim_index),len(stimuli)))\n",
    "for ii in range(len(stim_index)):\n",
    "    X[ii,stim_index[ii]] = 1\n",
    "    \n",
    "fig,ax = plt.subplots()\n",
    "ax.imshow(X,aspect='auto',interpolation='nearest')\n",
    "ax.set_xlabel('Stimulus orientation')\n",
    "ax.set_ylabel('Trial #')\n",
    "plt.title('Design matrix')\n",
    "\n",
    "plt.show()"
   ]
  },
  {
   "cell_type": "code",
   "execution_count": null,
   "id": "d53309bf",
   "metadata": {},
   "outputs": [],
   "source": [
    "from scipy import signal\n",
    "\n",
    "# Load running speed\n",
    "dx, dxtime = data_set.get_running_speed()\n",
    "\n",
    "# We'll need to reapply our median filter\n",
    "dx = signal.medfilt(dx,3)\n",
    "\n",
    "# Let's plot running speed alongside the calcium trace we've been studying.\n",
    "fig, (ax1,ax2) = plt.subplots(2,1,figsize=(8,6))\n",
    "\n",
    "ax1.set_xlabel('Time (s)')\n",
    "ax1.set_ylabel('dF/F')\n",
    "ax1.plot(gratings.timestamps, events[cell_idx,:], color='b')\n",
    "\n",
    "ax2.set_xlabel('Time (s)')\n",
    "ax2.set_ylabel('Running speed (cm/s)')\n",
    "ax2.plot(dxtime, dx, color='k')\n",
    "\n",
    "plt.show()"
   ]
  },
  {
   "cell_type": "code",
   "execution_count": null,
   "id": "2b9b2dba",
   "metadata": {},
   "outputs": [],
   "source": [
    "spd = np.zeros((len(stim_index),60))\n",
    "for ii in range(len(stim_index)):\n",
    "    spd[ii,:] = dx[stim_table.start[ii]:stim_table.start[ii]+60]\n",
    "\n",
    "    \n",
    "mean_spd = spd.mean(axis=1) # mean speed during each trial\n",
    "run_mask = mean_spd>0\n",
    "still_mask = mean_spd<=0"
   ]
  },
  {
   "cell_type": "code",
   "execution_count": null,
   "id": "26addca0",
   "metadata": {},
   "outputs": [],
   "source": [
    "# Constructing a new design matrix, \"Xspd\", that now includes running mask.  \n",
    "\n",
    "Xspd_continuous = np.concatenate((X,mean_spd.reshape(-1,1)), axis=1) # add column for run speed predictor (we won't bother with polynomial regression this time)\n",
    "Xspd_categorical = np.concatenate((X,run_mask.reshape(-1,1)), axis=1) # add column for run_mask; note that still_mask is redundant with run_mask, so we can just use one of them\n"
   ]
  },
  {
   "cell_type": "code",
   "execution_count": null,
   "id": "aade0314",
   "metadata": {},
   "outputs": [],
   "source": [
    "fig,ax = plt.subplots()\n",
    "ax.imshow(Xspd_continuous,aspect='auto', interpolation='nearest')\n",
    "ax.set_xlabel('Predictor [Stim orientations & Run speed]')\n",
    "ax.set_ylabel('Trial #')\n",
    "plt.title('Design matrix (Continuous run speed)')\n",
    "\n",
    "fig,ax = plt.subplots()\n",
    "ax.imshow(Xspd_categorical,aspect='auto',interpolation='nearest')\n",
    "ax.set_xlabel('Predictor [Stim orientations & Run speed]')\n",
    "ax.set_ylabel('Trial #')\n",
    "plt.title('Design matrix (Categorical run speed)')"
   ]
  },
  {
   "cell_type": "code",
   "execution_count": null,
   "id": "1b3ce605",
   "metadata": {},
   "outputs": [],
   "source": [
    "from sklearn.linear_model import LinearRegression\n",
    "from sklearn.model_selection import train_test_split"
   ]
  },
  {
   "cell_type": "code",
   "execution_count": null,
   "id": "691c10b7",
   "metadata": {},
   "outputs": [],
   "source": [
    "# Evaluate performance of continuous model\n",
    "\n",
    "mean_response = mean_response_all_cells[:,cell_idx]\n",
    "\n",
    "X_train, X_test, y_train, y_test = train_test_split(Xspd_continuous, mean_response, test_size=0.5, random_state=42)\n",
    "\n",
    "rfmodel = LinearRegression(fit_intercept=False).fit(X_train, y_train,)\n",
    "\n",
    "scr_train = rfmodel.score(X_train,y_train)\n",
    "print('Continuous model R^2 on training set = ' + str(scr_train))\n",
    "\n",
    "scr_test = rfmodel.score(X_test,y_test)\n",
    "print('Continuous model R^2 on test set = ' + str(scr_test))"
   ]
  },
  {
   "cell_type": "code",
   "execution_count": null,
   "id": "765e7b90",
   "metadata": {},
   "outputs": [],
   "source": [
    "# Evaluate performance of categorical model\n",
    "\n",
    "X_train, X_test, y_train, y_test = train_test_split(Xspd_categorical, mean_response, test_size=0.5, random_state=42)\n",
    "\n",
    "rfmodel = LinearRegression(fit_intercept=False).fit(X_train, y_train)\n",
    "\n",
    "scr_train = rfmodel.score(X_train,y_train)\n",
    "print('Categorical model R^2 on training set = ' + str(scr_train))\n",
    "\n",
    "scr_test = rfmodel.score(X_test,y_test)\n",
    "print('Categorical model R^2 on test set = ' + str(scr_test))"
   ]
  },
  {
   "cell_type": "markdown",
   "id": "d7dcf155",
   "metadata": {},
   "source": [
    "<div style=\"border-left: 3px solid #000; padding: 1px; padding-left: 10px; background: #DFF0D8; \">\n",
    "\n",
    "<h2> Exercise 7: Systematic evaluation of orientation- and running-modulation.</h2>\n",
    " \n",
    "    <p>\n",
    "    Our regression analysis focused on just one arbitrarily selected cell. Presumably, our scientific question did not pertain to this specific cell in this specific mouse <i>per se</i>, but more generally, cells belonging to the visual cortex of mice. Accordingly, any conclusions drawn on the basis of our analysis depend critically on the degree to which our selected cell is representative of the this broader population.  \n",
    "</p>   \n",
    "\n",
    "<p>\n",
    "In previous analyses, you've seen that things can look quite a bit different across different cells. For this exercise, try carrying out a more systematic investigation of tuning and running modulation of visual cortical cells. How  The goal is to obtain a better understanding of variability at the scale that our question concerns.\n",
    "</p>"
   ]
  },
  {
   "cell_type": "code",
   "execution_count": null,
   "id": "125666f0",
   "metadata": {},
   "outputs": [],
   "source": []
  },
  {
   "cell_type": "markdown",
   "id": "15475b08",
   "metadata": {},
   "source": [
    "<div style=\"border-left: 3px solid #000; padding: 1px; padding-left: 10px; background: #DFF0D8; \">\n",
    "\n",
    "<h2> Exercise 8: Constructing a generalized linear model (GLM).</h2>\n",
    " \n",
    "    <p>\n",
    "    We tried to spice up our linear model using polynomials -- still, this analysis assumes a particular distribution for our dependent variable (in particular, the residuals).  \n",
    "</p>   \n",
    "\n",
    "<p>\n",
    "An additional change for the sake of flexibility would be to equip our model with a <i>link function</i> via what's known as a <i> Genaralized </i> Linear Models (GLM). GLMs are routinely used to model spiking neural responses to stimuli, as spiking events are discrete, integer observations (counts) that are not Gaussian (but, rather <i> Poisson </i>) distributed.\n",
    "</p>\n",
    "\n",
    "<p>\n",
    "The GLM is defined as follows for some input $\\vec{x}_i$ and output $y_i$:\n",
    "</p>\n",
    "    \n",
    "<p>\n",
    "$P(y_i|\\vec{x}_i;\\vec{w}) = F(g^{-1}(\\vec{w}\\cdot\\vec{x}_i))$\n",
    "</p>\n",
    "    \n",
    "<p>\n",
    "Where $g$ is called the \"link function\", $F(m)$ represents some probability distribution with mean $m$, and $\\vec{w}$ is a vector of fitted parameters. These parameters are fit by finding the $\\vec{w}$ that maximizes $\\prod_{i=1}^N P(y_i|\\vec{x}_i;\\vec{w})$ for some dataset of $N$ samples. Note that when $g$ is the identity, and $F$ is the normal distribution with some fixed variance, this is just a linear regression problem.\n",
    "</p>\n",
    " \n",
    "<p>\n",
    "Fortunately, the sklearn package that we've been using so far also implements multiple GLMs with common link functions. These regressors can be imported from sklearn.linear_model as before, and they are equipped with the same functions (e.g., <i>fit</i>, <i>score</i>, and <i>predict</i>.\n",
    "</p>\n",
    "    \n",
    "<p>\n",
    "Below, try examining two different glm fits for the event data. Recall that above, we have taken the mean of the calcium event trace. How might the best link function differ if we used df/F instead? Compare model fits below.\n",
    "</p>\n",
    "    \n",
    "   <p>\n",
    "    <b> Note: </b> \"score\" will no longer correspond to $R^2$ once we've incorporated a (non-identity) link function! Hence, quantitative comparison across models is non-trivial. For now, though, try to create tuning curves based on these various linear models (i.e., linear regression as before, and GLMs with different link functions). How do these modeled tuning curves compare in appearance?\n",
    "   </p>\n",
    "    \n",
    "    <p>\n",
    "        <b> Hint: </b> The GLM regressors default to including a pretty strong regularization term ($L_2$ penalty). Start out by calling these regressors by explicitly setting this value to 0, as demonstrated in the next cell.\n",
    "   </p>\n",
    " \n",
    "</div>"
   ]
  },
  {
   "cell_type": "code",
   "execution_count": null,
   "id": "9d07bbbd",
   "metadata": {},
   "outputs": [],
   "source": [
    "from sklearn.linear_model import PoissonRegressor, GammaRegressor\n",
    "glm_poisson = PoissonRegressor(alpha=0)\n",
    "glm_gamma = GammaRegressor(alpha=0)"
   ]
  },
  {
   "cell_type": "code",
   "execution_count": null,
   "id": "f50a5d28",
   "metadata": {},
   "outputs": [],
   "source": [
    "# Let's start by discretizing events before aggregating over the course of each trial/across trials\n",
    "\n",
    "data = boc.get_ophys_experiment_data(ophys_experiment_id=session_id)\n",
    "\n",
    "orientation = np.zeros((len(stim_table)))\n",
    "temp_freq = np.zeros((len(stim_table)))\n",
    "mean_response_all_cells = np.zeros((len(stim_table),len(gratings.cell_id)))\n",
    "\n",
    "time, dff = data.get_dff_traces() # returns dff traces for all in this experiment (we'll start with the continuous dff traces at the moment)\n",
    "\n",
    "for ii in range(len(stim_table)):\n",
    "    orientation[ii] = stim_table.orientation[ii]\n",
    "    temp_freq[ii] = stim_table.temporal_frequency[ii]\n",
    "    for cc in range(len(gratings.cell_id)):\n",
    "        this_response =  events[cc,stim_table.start[ii]:stim_table.start[ii]+60]\n",
    "        #this_response =  dff[cc,stim_table.start[ii]:stim_table.start[ii]+60] # let's try dff for this analysis\n",
    "        mean_response_all_cells[ii,cc] = this_response.mean()\n",
    "        "
   ]
  },
  {
   "cell_type": "code",
   "execution_count": null,
   "id": "da24a6f2",
   "metadata": {},
   "outputs": [],
   "source": [
    "orientation = orientation[temp_freq==2]\n",
    "mean_response_all_cells = mean_response_all_cells[temp_freq==2,:]"
   ]
  },
  {
   "cell_type": "code",
   "execution_count": null,
   "id": "76a00983",
   "metadata": {},
   "outputs": [],
   "source": [
    "# Get prediction from linear regression\n",
    "\n",
    "mean_response = mean_response_all_cells[:,cell_idx]\n",
    "\n",
    "X_train, X_test, y_train, y_test = train_test_split(X, mean_response, test_size=0.5, random_state=42) # we'll leave out running speed this time, since we are focusing on tuning curves\n",
    "\n",
    "rfmodel = LinearRegression(fit_intercept=False).fit(X_train, y_train,)"
   ]
  },
  {
   "cell_type": "code",
   "execution_count": null,
   "id": "8a90170b",
   "metadata": {},
   "outputs": [],
   "source": [
    "scr_train = rfmodel.score(X_train,y_train)\n",
    "print('Linear score (R^2) on training set = ' + str(scr_train))\n",
    "\n",
    "scr_test = rfmodel.score(X_test,y_test)\n",
    "print('Linear score (R^2) on test set = ' + str(scr_test))"
   ]
  },
  {
   "cell_type": "code",
   "execution_count": null,
   "id": "6cd8ab66",
   "metadata": {},
   "outputs": [],
   "source": [
    "# The distribution of residuals can suggest to us which link function would be best (if not known a priori)\n",
    "plt.hist(mean_response-rfmodel.predict(X), bins=20)\n",
    "plt.title('Residuals from linear regression')\n",
    "plt.show()"
   ]
  },
  {
   "cell_type": "code",
   "execution_count": null,
   "id": "e6b1a3e8",
   "metadata": {},
   "outputs": [],
   "source": [
    "glm_poisson = PoissonRegressor(alpha=0)\n",
    "glm_poisson.fit(X_train,y_train)"
   ]
  },
  {
   "cell_type": "code",
   "execution_count": null,
   "id": "79031987",
   "metadata": {},
   "outputs": [],
   "source": [
    "scr_train = glm_poisson.score(X_train,y_train)\n",
    "print('Poisson score (D^2) on training set = ' + str(scr_train))\n",
    "\n",
    "scr_test = glm_poisson.score(X_test,y_test)\n",
    "print('Poisson score (D^2) on test set = ' + str(scr_test))"
   ]
  },
  {
   "cell_type": "code",
   "execution_count": null,
   "id": "1998db85",
   "metadata": {},
   "outputs": [],
   "source": [
    "glm_gamma = GammaRegressor(alpha=0)\n",
    "glm_gamma.fit(X_train,y_train+.0000001) # needed to ensure all values >0"
   ]
  },
  {
   "cell_type": "code",
   "execution_count": null,
   "id": "63673a71",
   "metadata": {},
   "outputs": [],
   "source": [
    "scr_train = glm_gamma.score(X_train,y_train+.0000001)\n",
    "print('Poisson score (D^2) on training set = ' + str(scr_train))\n",
    "\n",
    "scr_test = glm_gamma.score(X_test,y_test+.0000001)\n",
    "print('Poisson score (D^2) on test set = ' + str(scr_test))"
   ]
  },
  {
   "cell_type": "code",
   "execution_count": null,
   "id": "ad1d25da",
   "metadata": {},
   "outputs": [],
   "source": [
    "orientations,ix = np.unique(orientation,return_inverse=True)\n",
    "print(orientations)"
   ]
  },
  {
   "cell_type": "code",
   "execution_count": null,
   "id": "fc8f8fd6",
   "metadata": {},
   "outputs": [],
   "source": [
    "# Construct tuning curves under different models\n",
    "tuning_obs = np.zeros(orientations.shape)\n",
    "tuning_linear = np.zeros(orientations.shape)\n",
    "tuning_poisson = np.zeros(orientations.shape)\n",
    "tuning_gamma = np.zeros(orientations.shape)\n",
    "\n",
    "for ii in range(orientations.shape[0]):\n",
    "    tuning_obs[ii] = mean_response[ix==ii].mean()\n",
    "    tuning_linear[ii] = rfmodel.predict(X[ix==ii,:]).mean()\n",
    "    tuning_poisson[ii] = glm_poisson.predict(X[ix==ii,:]).mean()\n",
    "    tuning_gamma[ii] = glm_gamma.predict(X[ix==ii,:]).mean()\n",
    "    \n",
    "fig,ax = plt.subplots()\n",
    "ax.plot(orientations,tuning_obs, 'o-', label='Observed')\n",
    "ax.plot(orientations,tuning_linear, 'o-', label='Linear prediction')\n",
    "ax.plot(orientations,tuning_poisson, 'o-', label='Poisson prediction')\n",
    "ax.plot(orientations,tuning_gamma, 'o-', label='Gamma prediction')\n",
    "\n",
    "ax.set_xticks(orientations)\n",
    "ax.set_xlim(-10,325)\n",
    "ax.set_xlabel(\"Direction\", fontsize=16)\n",
    "ax.set_ylabel(\"Mean integrated event mag\", fontsize=16)\n",
    "plt.legend()\n",
    "plt.title(\"Observed and predicted tuning curves\")\n",
    "plt.show()"
   ]
  },
  {
   "cell_type": "code",
   "execution_count": null,
   "id": "b0aa83bc",
   "metadata": {},
   "outputs": [],
   "source": []
  }
 ],
 "metadata": {
  "kernelspec": {
   "display_name": "Python 3",
   "language": "python",
   "name": "python3"
  },
  "language_info": {
   "codemirror_mode": {
    "name": "ipython",
    "version": 3
   },
   "file_extension": ".py",
   "mimetype": "text/x-python",
   "name": "python",
   "nbconvert_exporter": "python",
   "pygments_lexer": "ipython3",
   "version": "3.8.5"
  }
 },
 "nbformat": 4,
 "nbformat_minor": 5
}

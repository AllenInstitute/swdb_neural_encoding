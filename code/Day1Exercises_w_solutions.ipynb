{
 "cells": [
  {
   "cell_type": "markdown",
   "id": "4fda4702",
   "metadata": {},
   "source": [
    "\n",
    "![Image](./resources/cropped-SummerWorkshop_Header.png)\n",
    "\n",
    "<h1 align=\"center\">Encoding </h1> \n",
    "<h2 align=\"center\"> Day 1, Exercises. SWDB 2023 </h2> \n",
    "\n",
    "<h3 align=\"center\">Monday, August 21, 2023</h3> "
   ]
  },
  {
   "cell_type": "markdown",
   "id": "711d12eb",
   "metadata": {},
   "source": [
    "<div style=\"border-left: 3px solid #000; padding: 1px; padding-left: 10px; background: #DFF0D8; \">\n",
    "There are more excersizes here than you can likely do in a afternoon. That said, please try a few of them - this is your first chance to use you newly minted Python skills to dig into a new data set! \n",
    "    \n",
    "Remember, if you get stuck there are TAs all around to help you. Don't waste time beating your head against a problem. We are here to help!\n",
    "    "
   ]
  },
  {
   "cell_type": "code",
   "execution_count": 2,
   "id": "9c36eab5",
   "metadata": {},
   "outputs": [],
   "source": [
    "# We need to import these modules to get started\n",
    "import numpy as np\n",
    "import pandas as pd\n",
    "\n",
    "import matplotlib.pyplot as plt\n",
    "%matplotlib inline"
   ]
  },
  {
   "cell_type": "code",
   "execution_count": 3,
   "id": "96e6ac81",
   "metadata": {},
   "outputs": [],
   "source": [
    "from allensdk.core.brain_observatory_cache import BrainObservatoryCache\n",
    "\n",
    "manifest_file = '../data/allen-brain-observatory/visual-coding-2p/manifest.json'\n",
    "boc = BrainObservatoryCache(manifest_file=manifest_file)"
   ]
  },
  {
   "cell_type": "markdown",
   "id": "262b46da",
   "metadata": {},
   "source": [
    "<div style=\"border-left: 3px solid #000; padding: 1px; padding-left: 10px; background: #DFF0D8; \">\n",
    "\n",
    "<h2> Exercise 1: Explore direction tuning. </h2>\n",
    "     <p>\n",
    "   \n",
    "The workshops earlier today looked deeply at only a few examples of direction tuning in excitatory cells in primary visual cortex (Visp). Try digging a little deeper into the Brain Observatory data. \n",
    "</p>   \n",
    "\n",
    "<p>\n",
    "There is abolutly no right answer to this exercise, and everyone will end up with different adventure. \n",
    "</p>   \n",
    "    \n",
    "Some ideas include:\n",
    "<ul>\n",
    "  <li>Try a different brain area. </li>\n",
    "  <li>Or try a different Cre line. Maybe an inhibitory line would be particularly interesting?</li>\n",
    "  <li>Try adifferent imaging  depth.</li> \n",
    "  <li>Find a session with more running, or one where the mouse never runs.  </li> \n",
    "</ul>\n",
    "   \n",
    "<p> \n",
    "Do these areas/cre line/depths have direction tuning? Does it look different than in this mornings workshops? Are cells in the population more or less reliable?\n",
    "</p>\n",
    "    \n",
    "<p>   \n",
    "There is a very large search space. One strategy might be to team up with someone else so you can systematically try and compare a few different combinations.\n",
    "</p>"
   ]
  },
  {
   "cell_type": "markdown",
   "id": "dc2126c3",
   "metadata": {},
   "source": [
    "To get you started, here is a quick refresher on how to query sessions in the data. We will go over two ways, one using the primarily the AllenSDK and the other outsourcing some of your queries to Pandas.\n",
    "\n",
    "Recall: the BrainObservatoryCache will tell you all of the avalible brain areas, cre lines, etc."
   ]
  },
  {
   "cell_type": "code",
   "execution_count": 3,
   "id": "fd7aab20",
   "metadata": {},
   "outputs": [
    {
     "name": "stdout",
     "output_type": "stream",
     "text": [
      "['VISal', 'VISam', 'VISl', 'VISp', 'VISpm', 'VISrl']\n",
      "['Cux2-CreERT2', 'Emx1-IRES-Cre', 'Fezf2-CreER', 'Nr5a1-Cre', 'Ntsr1-Cre_GN220', 'Pvalb-IRES-Cre', 'Rbp4-Cre_KL100', 'Rorb-IRES2-Cre', 'Scnn1a-Tg3-Cre', 'Slc17a7-IRES2-Cre', 'Sst-IRES-Cre', 'Tlx3-Cre_PL56', 'Vip-IRES-Cre']\n"
     ]
    }
   ],
   "source": [
    "print(boc.get_all_targeted_structures())\n",
    "print(boc.get_all_cre_lines())"
   ]
  },
  {
   "cell_type": "markdown",
   "id": "a97b94ac",
   "metadata": {},
   "source": [
    "You can then use the Cache object to query for your session(s) of interest. \n",
    "\n",
    "If you unsure where to start, we recomend choosing an SST-IRES-Cre line. Here, expression of GCaMP is driven in SST-positive interneurons, a type of inhibitory cell. This will form a nice juxdeposition to the excitatory cell line use in this morning's example. \n",
    "\n",
    "One note: you may notice that there are relativly few inhibitory neurons in any given session. This is because there are proportionally fewer inhibitory cells in cortex, and therefore fewer in any experiments field of view."
   ]
  },
  {
   "cell_type": "code",
   "execution_count": 4,
   "id": "ed984ffe",
   "metadata": {},
   "outputs": [
    {
     "data": {
      "text/html": [
       "<div>\n",
       "<style scoped>\n",
       "    .dataframe tbody tr th:only-of-type {\n",
       "        vertical-align: middle;\n",
       "    }\n",
       "\n",
       "    .dataframe tbody tr th {\n",
       "        vertical-align: top;\n",
       "    }\n",
       "\n",
       "    .dataframe thead th {\n",
       "        text-align: right;\n",
       "    }\n",
       "</style>\n",
       "<table border=\"1\" class=\"dataframe\">\n",
       "  <thead>\n",
       "    <tr style=\"text-align: right;\">\n",
       "      <th></th>\n",
       "      <th>id</th>\n",
       "      <th>imaging_depth</th>\n",
       "      <th>targeted_structure</th>\n",
       "      <th>cre_line</th>\n",
       "      <th>reporter_line</th>\n",
       "      <th>acquisition_age_days</th>\n",
       "      <th>experiment_container_id</th>\n",
       "      <th>session_type</th>\n",
       "      <th>donor_name</th>\n",
       "      <th>specimen_name</th>\n",
       "      <th>fail_eye_tracking</th>\n",
       "    </tr>\n",
       "  </thead>\n",
       "  <tbody>\n",
       "    <tr>\n",
       "      <th>0</th>\n",
       "      <td>603763073</td>\n",
       "      <td>325</td>\n",
       "      <td>VISpm</td>\n",
       "      <td>Sst-IRES-Cre</td>\n",
       "      <td>Ai148(TIT2L-GC6f-ICL-tTA2)</td>\n",
       "      <td>102</td>\n",
       "      <td>603763385</td>\n",
       "      <td>three_session_A</td>\n",
       "      <td>323528</td>\n",
       "      <td>Sst-IRES-Cre;Ai148(CAM)-323528</td>\n",
       "      <td>True</td>\n",
       "    </tr>\n",
       "    <tr>\n",
       "      <th>1</th>\n",
       "      <td>639117196</td>\n",
       "      <td>375</td>\n",
       "      <td>VISpm</td>\n",
       "      <td>Sst-IRES-Cre</td>\n",
       "      <td>Ai148(TIT2L-GC6f-ICL-tTA2)</td>\n",
       "      <td>97</td>\n",
       "      <td>639117194</td>\n",
       "      <td>three_session_A</td>\n",
       "      <td>340377</td>\n",
       "      <td>Sst-IRES-Cre;Ai148-340377</td>\n",
       "      <td>True</td>\n",
       "    </tr>\n",
       "    <tr>\n",
       "      <th>2</th>\n",
       "      <td>639251932</td>\n",
       "      <td>375</td>\n",
       "      <td>VISpm</td>\n",
       "      <td>Sst-IRES-Cre</td>\n",
       "      <td>Ai148(TIT2L-GC6f-ICL-tTA2)</td>\n",
       "      <td>96</td>\n",
       "      <td>639251930</td>\n",
       "      <td>three_session_A</td>\n",
       "      <td>340854</td>\n",
       "      <td>Sst-IRES-Cre;Ai148-340854</td>\n",
       "      <td>True</td>\n",
       "    </tr>\n",
       "    <tr>\n",
       "      <th>3</th>\n",
       "      <td>599909878</td>\n",
       "      <td>300</td>\n",
       "      <td>VISpm</td>\n",
       "      <td>Sst-IRES-Cre</td>\n",
       "      <td>Ai148(TIT2L-GC6f-ICL-tTA2)</td>\n",
       "      <td>111</td>\n",
       "      <td>599920955</td>\n",
       "      <td>three_session_A</td>\n",
       "      <td>315562</td>\n",
       "      <td>Sst-IRES-Cre;Ai148(CAM)-315562</td>\n",
       "      <td>False</td>\n",
       "    </tr>\n",
       "    <tr>\n",
       "      <th>4</th>\n",
       "      <td>603188560</td>\n",
       "      <td>275</td>\n",
       "      <td>VISpm</td>\n",
       "      <td>Sst-IRES-Cre</td>\n",
       "      <td>Ai148(TIT2L-GC6f-ICL-tTA2)</td>\n",
       "      <td>103</td>\n",
       "      <td>602397921</td>\n",
       "      <td>three_session_A</td>\n",
       "      <td>321822</td>\n",
       "      <td>Sst-IRES-Cre;Ai148(CAM)-321822</td>\n",
       "      <td>False</td>\n",
       "    </tr>\n",
       "  </tbody>\n",
       "</table>\n",
       "</div>"
      ],
      "text/plain": [
       "          id  imaging_depth targeted_structure      cre_line  \\\n",
       "0  603763073            325              VISpm  Sst-IRES-Cre   \n",
       "1  639117196            375              VISpm  Sst-IRES-Cre   \n",
       "2  639251932            375              VISpm  Sst-IRES-Cre   \n",
       "3  599909878            300              VISpm  Sst-IRES-Cre   \n",
       "4  603188560            275              VISpm  Sst-IRES-Cre   \n",
       "\n",
       "                reporter_line  acquisition_age_days  experiment_container_id  \\\n",
       "0  Ai148(TIT2L-GC6f-ICL-tTA2)                   102                603763385   \n",
       "1  Ai148(TIT2L-GC6f-ICL-tTA2)                    97                639117194   \n",
       "2  Ai148(TIT2L-GC6f-ICL-tTA2)                    96                639251930   \n",
       "3  Ai148(TIT2L-GC6f-ICL-tTA2)                   111                599920955   \n",
       "4  Ai148(TIT2L-GC6f-ICL-tTA2)                   103                602397921   \n",
       "\n",
       "      session_type donor_name                   specimen_name  \\\n",
       "0  three_session_A     323528  Sst-IRES-Cre;Ai148(CAM)-323528   \n",
       "1  three_session_A     340377       Sst-IRES-Cre;Ai148-340377   \n",
       "2  three_session_A     340854       Sst-IRES-Cre;Ai148-340854   \n",
       "3  three_session_A     315562  Sst-IRES-Cre;Ai148(CAM)-315562   \n",
       "4  three_session_A     321822  Sst-IRES-Cre;Ai148(CAM)-321822   \n",
       "\n",
       "   fail_eye_tracking  \n",
       "0               True  \n",
       "1               True  \n",
       "2               True  \n",
       "3              False  \n",
       "4              False  "
      ]
     },
     "execution_count": 4,
     "metadata": {},
     "output_type": "execute_result"
    }
   ],
   "source": [
    "sessions_list = boc.get_ophys_experiments(stimuli=['drifting_gratings'],\n",
    "                                                            cre_lines = ['SSt-IRES-Cre'],\n",
    "                                                            targeted_structures=['VISpm'])\n",
    "sessions_table = pd.DataFrame(sessions_list)\n",
    "sessions_table.head()"
   ]
  },
  {
   "cell_type": "markdown",
   "id": "f5f70a46",
   "metadata": {},
   "source": [
    "From here, you can select a session ID to try using the code from this morning!"
   ]
  },
  {
   "cell_type": "markdown",
   "id": "fdbd8b07",
   "metadata": {},
   "source": [
    "<div style=\"border-left: 3px solid #000; padding: 1px; padding-left: 10px; background: #DFF0D8; \">\n",
    "\n",
    "<h2> Exercise 2: To df/f or not to df/f, that is the question. </h2>\n",
    "\n",
    "In the workshop, we chose to use detected Ca2+ events to build our receptive fields and analyse our data. Did this matter? How might this have changed our results?\n",
    "    \n",
    "<p> To test this, find a few cells with known tuning behavior. Try building a tuning curve using both the df/f traces and the detected event magnitudes. What does this decision do to the tuning curves? In what situtations might this distinction matter more or less? </p> "
   ]
  },
  {
   "cell_type": "code",
   "execution_count": null,
   "id": "aa9fe42c",
   "metadata": {},
   "outputs": [],
   "source": []
  },
  {
   "cell_type": "markdown",
   "id": "a86f7425",
   "metadata": {},
   "source": [
    "<div style=\"border-left: 3px solid #000; padding: 1px; padding-left: 10px; background: #DFF0D8; \">\n",
    "\n",
    "<h2> Exercise 3: What else might be encoded in visual cortex?</h2>\n",
    "   \n",
    "    <p>\n",
    "Remeber, these mice saw more then just driting grating stimuli! Lets see if we can learn about the spatial selectivity of these cells, that is, we can ask whether cells encode the spatial location of stimuli.\n",
    "   \n",
    "        <p>\n",
    "To do this, we will use a stimulus set known as \"locally sparse noise.\" Here, mice were shown movies consisting of a mostly grey screen with non-neighboring (locally sparse) black and white pixels positioned randomly (noise) on the screen. \n"
   ]
  },
  {
   "cell_type": "markdown",
   "id": "833c7fc8",
   "metadata": {},
   "source": [
    "<div style=\"border-left: 3px solid #000; padding: 1px; padding-left: 10px; background: #DFF0D8; \">\n",
    "\n",
    "<h2> Exercise 3a: Get the dataset and look at the noise stimulus</h2>\n",
    "    \n",
    "First, lets get the session containing the locally sparse noise and plot a frame of the stimulus."
   ]
  },
  {
   "cell_type": "code",
   "execution_count": 218,
   "id": "a0f63f5e",
   "metadata": {},
   "outputs": [
    {
     "data": {
      "text/html": [
       "<div>\n",
       "<style scoped>\n",
       "    .dataframe tbody tr th:only-of-type {\n",
       "        vertical-align: middle;\n",
       "    }\n",
       "\n",
       "    .dataframe tbody tr th {\n",
       "        vertical-align: top;\n",
       "    }\n",
       "\n",
       "    .dataframe thead th {\n",
       "        text-align: right;\n",
       "    }\n",
       "</style>\n",
       "<table border=\"1\" class=\"dataframe\">\n",
       "  <thead>\n",
       "    <tr style=\"text-align: right;\">\n",
       "      <th></th>\n",
       "      <th>id</th>\n",
       "      <th>imaging_depth</th>\n",
       "      <th>targeted_structure</th>\n",
       "      <th>cre_line</th>\n",
       "      <th>reporter_line</th>\n",
       "      <th>acquisition_age_days</th>\n",
       "      <th>experiment_container_id</th>\n",
       "      <th>session_type</th>\n",
       "      <th>donor_name</th>\n",
       "      <th>specimen_name</th>\n",
       "      <th>fail_eye_tracking</th>\n",
       "    </tr>\n",
       "  </thead>\n",
       "  <tbody>\n",
       "    <tr>\n",
       "      <th>0</th>\n",
       "      <td>639254728</td>\n",
       "      <td>400</td>\n",
       "      <td>VISp</td>\n",
       "      <td>Fezf2-CreER</td>\n",
       "      <td>Ai148(TIT2L-GC6f-ICL-tTA2)</td>\n",
       "      <td>100</td>\n",
       "      <td>637998953</td>\n",
       "      <td>three_session_C2</td>\n",
       "      <td>339839</td>\n",
       "      <td>Fezf2-CreER;Ai148-339839</td>\n",
       "      <td>False</td>\n",
       "    </tr>\n",
       "  </tbody>\n",
       "</table>\n",
       "</div>"
      ],
      "text/plain": [
       "          id  imaging_depth targeted_structure     cre_line  \\\n",
       "0  639254728            400               VISp  Fezf2-CreER   \n",
       "\n",
       "                reporter_line  acquisition_age_days  experiment_container_id  \\\n",
       "0  Ai148(TIT2L-GC6f-ICL-tTA2)                   100                637998953   \n",
       "\n",
       "       session_type donor_name             specimen_name  fail_eye_tracking  \n",
       "0  three_session_C2     339839  Fezf2-CreER;Ai148-339839              False  "
      ]
     },
     "execution_count": 218,
     "metadata": {},
     "output_type": "execute_result"
    }
   ],
   "source": [
    "sessions_list = boc.get_ophys_experiments(experiment_container_ids= [637998953],\n",
    "                                          stimuli=['locally_sparse_noise_8deg'],)\n",
    "sessions_table = pd.DataFrame(sessions_list)\n",
    "sessions_table"
   ]
  },
  {
   "cell_type": "code",
   "execution_count": 219,
   "id": "7661693d",
   "metadata": {},
   "outputs": [],
   "source": [
    "# Load the dataset\n",
    "session_id = sessions_table.id.values[0]\n",
    "data_set = boc.get_ophys_experiment_data(ophys_experiment_id=sessions_table.id.values[0])"
   ]
  },
  {
   "cell_type": "code",
   "execution_count": 220,
   "id": "b61f52dc",
   "metadata": {},
   "outputs": [
    {
     "data": {
      "text/html": [
       "<div>\n",
       "<style scoped>\n",
       "    .dataframe tbody tr th:only-of-type {\n",
       "        vertical-align: middle;\n",
       "    }\n",
       "\n",
       "    .dataframe tbody tr th {\n",
       "        vertical-align: top;\n",
       "    }\n",
       "\n",
       "    .dataframe thead th {\n",
       "        text-align: right;\n",
       "    }\n",
       "</style>\n",
       "<table border=\"1\" class=\"dataframe\">\n",
       "  <thead>\n",
       "    <tr style=\"text-align: right;\">\n",
       "      <th></th>\n",
       "      <th>frame</th>\n",
       "      <th>start</th>\n",
       "      <th>end</th>\n",
       "    </tr>\n",
       "  </thead>\n",
       "  <tbody>\n",
       "    <tr>\n",
       "      <th>0</th>\n",
       "      <td>0</td>\n",
       "      <td>15343</td>\n",
       "      <td>15351</td>\n",
       "    </tr>\n",
       "    <tr>\n",
       "      <th>1</th>\n",
       "      <td>1</td>\n",
       "      <td>15351</td>\n",
       "      <td>15358</td>\n",
       "    </tr>\n",
       "    <tr>\n",
       "      <th>2</th>\n",
       "      <td>2</td>\n",
       "      <td>15359</td>\n",
       "      <td>15366</td>\n",
       "    </tr>\n",
       "    <tr>\n",
       "      <th>3</th>\n",
       "      <td>3</td>\n",
       "      <td>15366</td>\n",
       "      <td>15373</td>\n",
       "    </tr>\n",
       "    <tr>\n",
       "      <th>4</th>\n",
       "      <td>4</td>\n",
       "      <td>15374</td>\n",
       "      <td>15381</td>\n",
       "    </tr>\n",
       "  </tbody>\n",
       "</table>\n",
       "</div>"
      ],
      "text/plain": [
       "   frame  start    end\n",
       "0      0  15343  15351\n",
       "1      1  15351  15358\n",
       "2      2  15359  15366\n",
       "3      3  15366  15373\n",
       "4      4  15374  15381"
      ]
     },
     "execution_count": 220,
     "metadata": {},
     "output_type": "execute_result"
    }
   ],
   "source": [
    "# Get the stimulus table\n",
    "stim_table = data_set.get_stimulus_table('locally_sparse_noise_8deg')\n",
    "stim_table.head()"
   ]
  },
  {
   "cell_type": "code",
   "execution_count": 221,
   "id": "a87d6a50",
   "metadata": {},
   "outputs": [
    {
     "data": {
      "text/plain": [
       "(5584, 8, 14)"
      ]
     },
     "execution_count": 221,
     "metadata": {},
     "output_type": "execute_result"
    }
   ],
   "source": [
    "# Get the stimulus movie\n",
    "# It is called the \"stimulus template\"\n",
    "stimulus_template = data_set.get_stimulus_template('locally_sparse_noise_8deg')\n",
    "stimulus_template.shape"
   ]
  },
  {
   "cell_type": "code",
   "execution_count": 222,
   "id": "1dbfb9b1",
   "metadata": {},
   "outputs": [
    {
     "data": {
      "text/plain": [
       "Text(0, 0.5, 'Y pixels')"
      ]
     },
     "execution_count": 222,
     "metadata": {},
     "output_type": "execute_result"
    },
    {
     "data": {
      "image/png": "[encoded data removed]",
      "text/plain": [
       "<Figure size 432x288 with 1 Axes>"
      ]
     },
     "metadata": {
      "needs_background": "light"
     },
     "output_type": "display_data"
    }
   ],
   "source": [
    "# Plot a single frame\n",
    "fig,ax = plt.subplots()\n",
    "ax.imshow(stimulus_template[0],cmap= 'Greys')\n",
    "ax.set_xlabel('X pixels')\n",
    "ax.set_ylabel('Y pixels')"
   ]
  },
  {
   "cell_type": "markdown",
   "id": "5fe8db44",
   "metadata": {},
   "source": [
    "<div style=\"border-left: 3px solid #000; padding: 1px; padding-left: 10px; background: #DFF0D8; \">\n",
    "\n",
    "<h2> Exercise 3b: Get per-trial responses  </h2>\n",
    "    \n",
    "Here, we need to make a decision about how to bin time for each trial. How large should the trial window be? Should it extend beyond the lenght of the trail? Why? "
   ]
  },
  {
   "cell_type": "code",
   "execution_count": 223,
   "id": "d8ac2c7a",
   "metadata": {},
   "outputs": [],
   "source": [
    "# Load the events\n",
    "events = boc.get_ophys_experiment_events(session_id)\n",
    "num_cells = events.shape[0]"
   ]
  },
  {
   "cell_type": "code",
   "execution_count": 224,
   "id": "d37bac8e",
   "metadata": {},
   "outputs": [],
   "source": [
    "# Choose a window. \n",
    "# We will (somewhat arbitrarily) start with 15 frames, or about 1/2 secons\n",
    "window = 15"
   ]
  },
  {
   "cell_type": "code",
   "execution_count": 225,
   "id": "9b9d5c92",
   "metadata": {},
   "outputs": [],
   "source": [
    "# Get the average response amplitude on each trial\n",
    "responses = np.zeros((len(stim_table),num_cells))\n",
    "for ii,row in stim_table.iterrows():\n",
    "    for cc in range(num_cells):\n",
    "         responses[ii,cc] = events[cc,row.start:row.start+window].mean()"
   ]
  },
  {
   "cell_type": "markdown",
   "id": "6ddfed2d",
   "metadata": {},
   "source": [
    "<div style=\"border-left: 3px solid #000; padding: 1px; padding-left: 10px; background: #DFF0D8; \">\n",
    "\n",
    "<h2> Exercise 3c: Build a design matrix using this stimulus</h2>\n",
    "    \n",
    "We can represent each frame in the 2 dimension image by \"flattening\" the image into the vector. Stacking these vectors will allow us to build a design matrix."
   ]
  },
  {
   "cell_type": "code",
   "execution_count": 226,
   "id": "30b6fc1b",
   "metadata": {},
   "outputs": [
    {
     "data": {
      "text/plain": [
       "(8, 14)"
      ]
     },
     "execution_count": 226,
     "metadata": {},
     "output_type": "execute_result"
    }
   ],
   "source": [
    "# What is the shape of one frame?\n",
    "stimulus_template[0].shape"
   ]
  },
  {
   "cell_type": "code",
   "execution_count": 227,
   "id": "392d8457",
   "metadata": {},
   "outputs": [
    {
     "data": {
      "text/plain": [
       "(112,)"
      ]
     },
     "execution_count": 227,
     "metadata": {},
     "output_type": "execute_result"
    }
   ],
   "source": [
    "# What does this look like flattened?\n",
    "flat_stim = stimulus_template[0].flatten()\n",
    "flat_stim.shape"
   ]
  },
  {
   "cell_type": "code",
   "execution_count": 228,
   "id": "a11ea8de",
   "metadata": {},
   "outputs": [
    {
     "data": {
      "text/plain": [
       "Text(0, 0.5, 'pixel intensity')"
      ]
     },
     "execution_count": 228,
     "metadata": {},
     "output_type": "execute_result"
    },
    {
     "data": {
      "image/png": "[encoded data removed]",
      "text/plain": [
       "<Figure size 432x288 with 1 Axes>"
      ]
     },
     "metadata": {
      "needs_background": "light"
     },
     "output_type": "display_data"
    }
   ],
   "source": [
    "fig,ax = plt.subplots()\n",
    "ax.plot(flat_stim)\n",
    "ax.set_xlabel('pixel id')\n",
    "ax.set_ylabel('pixel intensity')"
   ]
  },
  {
   "cell_type": "code",
   "execution_count": 229,
   "id": "112ef4ba",
   "metadata": {},
   "outputs": [
    {
     "data": {
      "text/plain": [
       "array([[255., 127., 127., ..., 127., 127., 127.],\n",
       "       [127., 127., 127., ..., 127., 127., 127.],\n",
       "       [127., 127., 127., ..., 127., 127., 127.],\n",
       "       ...,\n",
       "       [127., 127., 127., ..., 127., 127., 127.],\n",
       "       [127., 127., 127., ..., 127., 127.,   0.],\n",
       "       [127., 127., 127., ..., 127., 127., 127.]])"
      ]
     },
     "execution_count": 229,
     "metadata": {},
     "output_type": "execute_result"
    }
   ],
   "source": [
    "# Do this for every trial\n",
    "design_matrix = np.zeros((len(stim_table),len(flat_stim)))\n",
    "for ii in range(len(stim_table)):\n",
    "    design_matrix[ii,:] = stimulus_template[ii].flatten()\n",
    "design_matrix"
   ]
  },
  {
   "cell_type": "code",
   "execution_count": 230,
   "id": "b99db0ec",
   "metadata": {},
   "outputs": [],
   "source": [
    "# For ease of interpetability, change white values to 1s, greys to 0, and blacks to -1:\n",
    "design_matrix[design_matrix==255] = 1\n",
    "design_matrix[design_matrix==0] = -1\n",
    "design_matrix[design_matrix==127]=0\n",
    "\n"
   ]
  },
  {
   "cell_type": "code",
   "execution_count": 231,
   "id": "4de3e1e8",
   "metadata": {},
   "outputs": [
    {
     "data": {
      "text/plain": [
       "Text(0, 0.5, 'pixel intensity')"
      ]
     },
     "execution_count": 231,
     "metadata": {},
     "output_type": "execute_result"
    },
    {
     "data": {
      "image/png": "[encoded data removed]",
      "text/plain": [
       "<Figure size 432x288 with 1 Axes>"
      ]
     },
     "metadata": {
      "needs_background": "light"
     },
     "output_type": "display_data"
    }
   ],
   "source": [
    "# Check that worked\n",
    "fig,ax = plt.subplots()\n",
    "plt.plot(design_matrix[0,:])\n",
    "ax.set_xlabel('pixel id')\n",
    "ax.set_ylabel('pixel intensity')"
   ]
  },
  {
   "cell_type": "code",
   "execution_count": 232,
   "id": "caa37f07",
   "metadata": {},
   "outputs": [
    {
     "data": {
      "text/plain": [
       "<matplotlib.colorbar.Colorbar at 0x7f0fa4569ac0>"
      ]
     },
     "execution_count": 232,
     "metadata": {},
     "output_type": "execute_result"
    },
    {
     "data": {
      "image/png": "[encoded data removed]",
      "text/plain": [
       "<Figure size 432x288 with 2 Axes>"
      ]
     },
     "metadata": {
      "needs_background": "light"
     },
     "output_type": "display_data"
    }
   ],
   "source": [
    "# what does this look like?\n",
    "# Its too big to plot the whole thing, but lets look at a section\n",
    "fig,ax = plt.subplots()\n",
    "h = ax.imshow(design_matrix[:150,:])\n",
    "ax.set_xlabel('pixel id')\n",
    "ax.set_ylabel('trial #')\n",
    "plt.colorbar(h)"
   ]
  },
  {
   "cell_type": "markdown",
   "id": "595017eb",
   "metadata": {},
   "source": [
    "<div style=\"border-left: 3px solid #000; padding: 1px; padding-left: 10px; background: #DFF0D8; \">\n",
    "\n",
    "<h2> Exercise 3d: Split your data into training and testing sets</h2>"
   ]
  },
  {
   "cell_type": "code",
   "execution_count": 233,
   "id": "49358ac4",
   "metadata": {},
   "outputs": [],
   "source": [
    "# Import model fitting code\n",
    "from sklearn.model_selection import train_test_split\n",
    "# Split\n",
    "train_matrix,test_matrix,train_response,test_response = train_test_split(design_matrix,responses,test_size=.5\n",
    "                                                                        )"
   ]
  },
  {
   "cell_type": "markdown",
   "id": "09692d69",
   "metadata": {},
   "source": [
    "<div style=\"border-left: 3px solid #000; padding: 1px; padding-left: 10px; background: #DFF0D8; \">\n",
    "\n",
    "<h2> Exercise 3e: Fit a model. </h2>\n",
    "    \n",
    "<p>\n",
    "We recomend cell_specimine_id  = 662194111, but try several!\n",
    "   \n",
    "    <p>\n",
    "Try plotting the model coefficients. Because we flattened the stimulus frame early, you will need to use np.reshape to get the vectorized coefficients back into the shape of the original frame in the stimulus template. What does the pattern tell you? \n",
    "        \n"
   ]
  },
  {
   "cell_type": "code",
   "execution_count": 234,
   "id": "7295befe",
   "metadata": {},
   "outputs": [],
   "source": [
    "from sklearn.linear_model import LinearRegression\n",
    "LR = LinearRegression()\n"
   ]
  },
  {
   "cell_type": "code",
   "execution_count": 259,
   "id": "34fc3c53",
   "metadata": {},
   "outputs": [],
   "source": [
    "cell_idx = data_set.get_cell_specimen_indices([662194111])\n"
   ]
  },
  {
   "cell_type": "code",
   "execution_count": 260,
   "id": "e0471c42",
   "metadata": {},
   "outputs": [
    {
     "name": "stdout",
     "output_type": "stream",
     "text": [
      "R^2 train-->train: 0.1816551638629612\n",
      "R^2 train-->train: 0.1456097708401708\n"
     ]
    }
   ],
   "source": [
    "# Fit model\n",
    "LR.fit(train_matrix,train_response[:,cell_idx])\n",
    "# Get the coefs\n",
    "coef = LR.coef_.reshape(stimulus_template[0].shape)\n",
    "\n",
    "# Print scores\n",
    "print('R^2 train-->train: ' + str(LR.score(train_matrix,train_response[:,cell_idx])))\n",
    "print('R^2 train-->train: ' + str(LR.score(test_matrix,test_response[:,cell_idx])))"
   ]
  },
  {
   "cell_type": "code",
   "execution_count": 261,
   "id": "f8d4f36b",
   "metadata": {},
   "outputs": [
    {
     "data": {
      "image/png": "[encoded data removed]",
      "text/plain": [
       "<Figure size 432x288 with 2 Axes>"
      ]
     },
     "metadata": {
      "needs_background": "light"
     },
     "output_type": "display_data"
    }
   ],
   "source": [
    "fig,ax = plt.subplots()\n",
    "h = ax.imshow(coef)\n",
    "cbar = plt.colorbar(h)\n",
    "ax.set_xlabel('X pixel')\n",
    "ax.set_ylabel('Y pixel')\n",
    "cbar.set_label('Coef Weight')"
   ]
  },
  {
   "cell_type": "markdown",
   "id": "5f2ba123",
   "metadata": {},
   "source": [
    "<div style=\"border-left: 3px solid #000; padding: 1px; padding-left: 10px; background: #DFF0D8; \">\n",
    "\n",
    "<h2> Exercise 3f: Fit a model for all the cells in the session</h2>\n",
    "\n",
    "<p> Plot the coefficients for the most and least reliable models. What do you notice about the population of responses?\n",
    "   "
   ]
  },
  {
   "cell_type": "code",
   "execution_count": 262,
   "id": "1dba03e3",
   "metadata": {},
   "outputs": [],
   "source": [
    "train_r2 = np.zeros(num_cells)\n",
    "test_r2 = np.zeros(num_cells)\n",
    "coefs = np.zeros((num_cells,len(coef.flatten())))\n",
    "\n",
    "for ii in range(num_cells):\n",
    "    LR = LinearRegression()\n",
    "    LR.fit(train_matrix,train_response[:,ii])\n",
    "    # Get the coefs\n",
    "    coefs[ii,:] = LR.coef_\n",
    "    train_r2[ii] = LR.score(train_matrix,train_response[:,ii])\n",
    "    test_r2[ii] = LR.score(test_matrix,test_response[:,ii])\n"
   ]
  },
  {
   "cell_type": "code",
   "execution_count": 275,
   "id": "d72c26cc",
   "metadata": {},
   "outputs": [
    {
     "data": {
      "text/plain": [
       "Text(0, 0.5, 'Test R2')"
      ]
     },
     "execution_count": 275,
     "metadata": {},
     "output_type": "execute_result"
    },
    {
     "data": {
      "image/png": "[encoded data removed]",
      "text/plain": [
       "<Figure size 432x288 with 1 Axes>"
      ]
     },
     "metadata": {
      "needs_background": "light"
     },
     "output_type": "display_data"
    }
   ],
   "source": [
    "fig,ax = plt.subplots()\n",
    "ax.scatter(train_r2,test_r2)\n",
    "ax.scatter(train_r2[cell_idx],test_r2[cell_idx],c = 'r')\n",
    "\n",
    "mnlim = np.min(np.concatenate([train_r2,test_r2]))\n",
    "mxlim = np.max(np.concatenate([train_r2,test_r2]))\n",
    "\n",
    "ax.set_xlim([mnlim,mxlim])\n",
    "ax.set_ylim([mnlim,mxlim])\n",
    "ax.axhline(0,c = 'k')\n",
    "ax.axvline(0,c = 'k')\n",
    "ax.plot([-1,1],[-1,1],'k--')\n",
    "ax.set_xlabel('Train R2')\n",
    "ax.set_ylabel('Test R2')"
   ]
  },
  {
   "cell_type": "code",
   "execution_count": 288,
   "id": "cbf38789",
   "metadata": {},
   "outputs": [
    {
     "data": {
      "image/png": "[encoded data removed]",
      "text/plain": [
       "<Figure size 720x360 with 6 Axes>"
      ]
     },
     "metadata": {
      "needs_background": "light"
     },
     "output_type": "display_data"
    }
   ],
   "source": [
    "order = np.argsort(test_r2)\n",
    "fig,ax = plt.subplots(ncols=3,nrows = 2,figsize = (10,5))\n",
    "for ii in range(3):\n",
    "    ax[0,ii].imshow(coefs[order[-(ii+1)],:].reshape(coef.shape))\n",
    "    ax[0,ii].set_title('#'+str(ii+1) + ' Most Reliable')\n",
    "    ax[0,ii].set_xlabel('x pixel')\n",
    "    ax[0,ii].set_ylabel('y pixel')\n",
    "\n",
    "for ii in range(3):\n",
    "    ax[1,ii].imshow(coefs[order[ii],:].reshape(coef.shape))\n",
    "    ax[1,ii].set_title('#'+str(ii+1) + ' Least Reliable')\n",
    "    ax[1,ii].set_xlabel('x pixel')\n",
    "    ax[1,ii].set_ylabel('y pixel')"
   ]
  },
  {
   "cell_type": "markdown",
   "id": "099e16d6",
   "metadata": {},
   "source": [
    "<div style=\"border-left: 3px solid #000; padding: 1px; padding-left: 10px; background: #DFF0D8; \">\n",
    "\n",
    "<h2> Exercise 4: What else might be encoded in visual cortex?</h2>\n",
    "    \n",
    "Try to see if you can find a neuron that reliable encodes another of the presented stimulus sets. \n",
    "    \n",
    "Some places to try:\n",
    "<ul>\n",
    "  <li>Tempral frequencies: We filtered this mornings data to select only one temporal frequncy. Was there temporal frequency tuning as well?</li>\n",
    "  <li>Natural Scenes: Scenes were shown more than one time. Are there cells with consistant responses across presentations? </li>\n",
    "  <li>Natural Movies: Are there cells with a consistant response timecourse as a move unfolds?</li>\n",
    "</ul>\n",
    "    \n",
    "Answering each of these questions will require thoughts about the assumtions you make about the data. For example, what time window makes sense to use? Given the timecourse of Ca2+ data, should you include time after a stimulus for short presentations? Similarly, how might you bin data in a natural movie? "
   ]
  },
  {
   "cell_type": "code",
   "execution_count": null,
   "id": "4044377d",
   "metadata": {},
   "outputs": [],
   "source": []
  },
  {
   "cell_type": "markdown",
   "id": "862ca2ca",
   "metadata": {},
   "source": [
    "<div style=\"border-left: 3px solid #000; padding: 1px; padding-left: 10px; background: #DFF0D8; \">\n",
    "\n",
    "<h2> Exercise 5: Other ways to assess reliability</h2>\n",
    "    \n",
    "Problem description here!\n",
    "    \n",
    "But basically we will do bootstrapping"
   ]
  },
  {
   "cell_type": "code",
   "execution_count": 134,
   "id": "991c32e6",
   "metadata": {},
   "outputs": [],
   "source": [
    "# Load data from workshop\n",
    "import os\n",
    "load_loc = os.path.join('/scratch','Workshop1')\n",
    "\n",
    "orientation = np.load(os.path.join(load_loc,'orientation.npy'))\n",
    "temp_freq = np.load(os.path.join(load_loc,'temp_freq.npy'))\n",
    "mean_response_all = np.load(os.path.join(load_loc,'mean_response_all.npy'))\n",
    "\n",
    "#filter for temp_freq = 1:\n",
    "orientation = orientation[temp_freq==1]\n",
    "mean_response_all = mean_response_all[temp_freq==1,:]\n",
    "temp_freq = temp_freq[temp_freq==1]\n",
    "\n",
    "# Get all orientations\n",
    "orientations = np.unique(orientation)"
   ]
  },
  {
   "cell_type": "code",
   "execution_count": 133,
   "id": "b4a2191d",
   "metadata": {},
   "outputs": [],
   "source": [
    "# Define a fuction that computes DSI\n",
    "def dsi(orivals, tuning):\n",
    "    \"\"\"\n",
    "    Computes the direction selectivity of a cell. \n",
    "    See Ringbach 2002,\n",
    "    Van Hooser 2014,\n",
    "    De Vries 2019\n",
    "\n",
    "    Parameters\n",
    "    ----------\n",
    "    ori_vals : complex array of length N\n",
    "         Each value the oriention of the stimulus.\n",
    "    tuning : float array of length N\n",
    "        Each value the (averaged) response of the cell at a different\n",
    "        orientation.\n",
    "\n",
    "    Returns\n",
    "    -------\n",
    "    osi : float\n",
    "        An N-dimensional array of the circular variance (scalar value,\n",
    "        in radians) of the responses.\n",
    "    \"\"\"\n",
    "    \n",
    "    tuning_sum = tuning.sum()\n",
    "    cv_top = tuning * np.exp(1j * orivals)\n",
    "    return np.abs(cv_top.sum()) / tuning_sum\n",
    "\n",
    "def compute_tuning_curve(mean_response,orientation,orientations):\n",
    "    \"\"\"\n",
    "    Compute the tuning curve for a set of reponses and orientations\n",
    "    \n",
    "    Parameters\n",
    "    ----------\n",
    "    mean_response : np.array\n",
    "        The mean response for each stimulus\n",
    "    orientation : np.array\n",
    "        Orientation of each stimulus\n",
    "    orientations: np.array\n",
    "        All orientations to compute tuning over\n",
    "        Useful when a subset of orientations are needed.\n",
    "    \n",
    "    Returns\n",
    "    -------\n",
    "    tuning : np.array\n",
    "        mean response at each orientation\n",
    "    stdev: np.array \n",
    "        Standard deviation of responses at each orientation\n",
    "    \"\"\"\n",
    "    tuning = np.zeros(orientations.shape)\n",
    "    stdev = np.zeros(orientations.shape)\n",
    "    for ii,ori in enumerate(orientations):\n",
    "        tuning[ii] = mean_response[orientation==ori].mean()\n",
    "        stdev[ii] = mean_response[orientation==ori].std()\n",
    "    return tuning,stdev\n",
    "    "
   ]
  },
  {
   "cell_type": "code",
   "execution_count": 132,
   "id": "38edfb6f",
   "metadata": {},
   "outputs": [],
   "source": [
    "# Lets grab the same cell we were using before\n",
    "cell_idx = 17"
   ]
  },
  {
   "cell_type": "code",
   "execution_count": 148,
   "id": "ad3e1e6e",
   "metadata": {},
   "outputs": [],
   "source": [
    "# Compute the dsi for this cell. \n",
    "tuning,_ = compute_tuning_curve(mean_response_all[:,cell_idx],orientation,orientations)\n",
    "true_dsi = dsi(orientations,tuning) \n",
    "# Note that here we used the full session whereas this morning we used only the first half, \n",
    "# which is why this number is not exactly the same."
   ]
  },
  {
   "cell_type": "code",
   "execution_count": 144,
   "id": "040ecc7b",
   "metadata": {},
   "outputs": [],
   "source": [
    "n_shuffles= 10000\n",
    "shuffled_dsi = np.zeros(n_shuffles)\n",
    "for ii in range(n_shuffles):\n",
    "    # Shuffle responses\n",
    "    shuffled_responses = np.random.permutation(mean_response_all[:,cell_idx])\n",
    "    # Compute tuning curve with shuffled data\n",
    "    shuffled_tuning,_ = compute_tuning_curve(shuffled_responses,orientation,orientations)\n",
    "    # And the dsi for the shuffled tuning\n",
    "    shuffled_dsi[ii] = dsi(orientations,shuffled_tuning)"
   ]
  },
  {
   "cell_type": "code",
   "execution_count": 149,
   "id": "ee7fbdc5",
   "metadata": {},
   "outputs": [
    {
     "data": {
      "text/plain": [
       "<matplotlib.lines.Line2D at 0x7f0faa3298b0>"
      ]
     },
     "execution_count": 149,
     "metadata": {},
     "output_type": "execute_result"
    },
    {
     "data": {
      "image/png": "[encoded data removed]",
      "text/plain": [
       "<Figure size 432x288 with 1 Axes>"
      ]
     },
     "metadata": {
      "needs_background": "light"
     },
     "output_type": "display_data"
    }
   ],
   "source": [
    "fig,ax = plt.subplots()\n",
    "ax.hist(shuffled_dsi,100)\n",
    "ax.axvline(true_dsi)\n",
    "ax.set_xlabel()"
   ]
  },
  {
   "cell_type": "code",
   "execution_count": 295,
   "id": "78ee84df",
   "metadata": {},
   "outputs": [
    {
     "data": {
      "text/plain": [
       "0.0015998400159984438"
      ]
     },
     "execution_count": 295,
     "metadata": {},
     "output_type": "execute_result"
    }
   ],
   "source": [
    "pval = 1-np.sum(shuffled_dsi<=true_dsi)/(n_shuffles+1)\n",
    "pval"
   ]
  },
  {
   "cell_type": "code",
   "execution_count": 316,
   "id": "1263613f",
   "metadata": {},
   "outputs": [
    {
     "name": "stdout",
     "output_type": "stream",
     "text": [
      "0.1268731268731269\n",
      "0.4355644355644356\n",
      "0.0009990009990009652\n",
      "0.003996003996003972\n",
      "0.0019980019980020414\n",
      "0.0009990009990009652\n",
      "0.025974025974025983\n",
      "0.6973026973026972\n",
      "0.03596403596403597\n",
      "0.7212787212787213\n",
      "0.07492507492507494\n",
      "0.10889110889110887\n",
      "0.017982017982017928\n",
      "0.28371628371628377\n",
      "0.0009990009990009652\n",
      "0.42357642357642356\n",
      "0.03096903096903092\n",
      "0.003996003996003972\n",
      "0.25274725274725274\n",
      "0.0009990009990009652\n",
      "0.21178821178821183\n",
      "0.6103896103896104\n",
      "0.7162837162837163\n",
      "0.004995004995005048\n",
      "0.26173826173826176\n",
      "0.020979020979020935\n",
      "0.10989010989010994\n",
      "0.16883116883116878\n",
      "0.007992007992007943\n",
      "0.09490509490509491\n",
      "0.0009990009990009652\n",
      "0.0569430569430569\n",
      "0.28071928071928076\n",
      "0.24975024975024973\n",
      "0.4355644355644356\n",
      "0.006993006993006978\n",
      "0.0009990009990009652\n",
      "0.13486513486513485\n",
      "0.21678321678321677\n",
      "0.00899100899100902\n",
      "0.14385614385614387\n",
      "0.13886113886113882\n",
      "0.050949050949051\n",
      "0.2257742257742258\n",
      "0.011988011988012026\n",
      "0.27472527472527475\n",
      "0.0029970029970030065\n",
      "0.026973026973026948\n",
      "0.25274725274725274\n",
      "0.991008991008991\n",
      "0.5824175824175823\n",
      "0.025974025974025983\n",
      "0.06193806193806195\n",
      "0.027972027972028024\n",
      "0.2957042957042957\n",
      "0.0009990009990009652\n",
      "0.01998001998001997\n",
      "0.3326673326673326\n",
      "0.8191808191808192\n",
      "0.22477522477522482\n",
      "0.8921078921078921\n",
      "0.31668331668331673\n",
      "0.18781218781218778\n",
      "0.18881118881118886\n",
      "0.5984015984015985\n",
      "0.0009990009990009652\n",
      "0.1268731268731269\n",
      "0.004995004995005048\n",
      "0.040959040959040904\n",
      "0.003996003996003972\n",
      "0.016983016983016963\n",
      "0.003996003996003972\n",
      "0.21678321678321677\n",
      "0.0009990009990009652\n",
      "0.5014985014985015\n",
      "0.3556443556443556\n",
      "0.0009990009990009652\n",
      "0.8971028971028971\n",
      "0.5184815184815185\n",
      "0.020979020979020935\n",
      "0.07192807192807193\n",
      "0.3686313686313686\n",
      "0.3466533466533467\n",
      "0.0029970029970030065\n",
      "0.003996003996003972\n",
      "0.007992007992007943\n",
      "0.003996003996003972\n",
      "0.36663336663336665\n",
      "0.5304695304695305\n",
      "0.04395604395604391\n",
      "0.01098901098901095\n",
      "0.974025974025974\n",
      "0.1048951048951049\n",
      "0.20479520479520474\n",
      "0.3086913086913087\n",
      "0.003996003996003972\n",
      "0.4665334665334665\n",
      "0.21378621378621376\n",
      "0.012987012987012991\n"
     ]
    }
   ],
   "source": [
    "num_cells =mean_response_all.shape[1]\n",
    "true_dsi_all = np.zeros(num_cells) \n",
    "pvals = np.zeros(num_cells)\n",
    "\n",
    "# For faster computations\n",
    "n_shuffles = 1000\n",
    "\n",
    "for ii in range(num_cells):# Loop through cells\n",
    "    this_tuning,_ = compute_tuning_curve(mean_response_all[:,ii],orientation,orientations)\n",
    "    true_dsi_all[ii] = dsi(orientations,this_tuning)\n",
    "    shuffled_dsi = np.zeros(n_shuffles)\n",
    "    \n",
    "    for jj in range(n_shuffles):\n",
    "        # Shuffle responses\n",
    "        shuffled_responses = np.random.permutation(mean_response_all[:,ii])\n",
    "        # Compute tuning curve with shuffled data\n",
    "        shuffled_tuning,_ = compute_tuning_curve(shuffled_responses,orientation,orientations)\n",
    "        # And the dsi for the shuffled tuning\n",
    "        shuffled_dsi[jj] = dsi(orientations,shuffled_tuning)\n",
    "    pvals[ii] = 1.-np.sum(shuffled_dsi<=true_dsi_all[ii])/(n_shuffles+1)\n",
    "    print(pvals[ii])\n"
   ]
  },
  {
   "cell_type": "code",
   "execution_count": 328,
   "id": "66b33c8e",
   "metadata": {},
   "outputs": [
    {
     "data": {
      "text/plain": [
       "Text(0, 0.5, '# Cells')"
      ]
     },
     "execution_count": 328,
     "metadata": {},
     "output_type": "execute_result"
    },
    {
     "data": {
      "image/png": "[encoded data removed]",
      "text/plain": [
       "<Figure size 432x288 with 1 Axes>"
      ]
     },
     "metadata": {
      "needs_background": "light"
     },
     "output_type": "display_data"
    }
   ],
   "source": [
    "fig,ax = plt.subplots()\n",
    "bins = np.arange(0,1,.05)\n",
    "ax.hist(true_dsi_all[pvals>=.05],bins,alpha = .5,label = 'Not Sig')\n",
    "ax.hist(true_dsi_all[pvals<.05],bins,alpha = .5,label = 'Not Sig')\n",
    "ax.set_xlabel('DSI')\n",
    "ax.set_ylabel('# Cells')\n",
    "ax.legend(())"
   ]
  },
  {
   "cell_type": "code",
   "execution_count": 315,
   "id": "8c0330b0",
   "metadata": {},
   "outputs": [
    {
     "data": {
      "text/plain": [
       "119"
      ]
     },
     "execution_count": 315,
     "metadata": {},
     "output_type": "execute_result"
    }
   ],
   "source": [
    "num_cells"
   ]
  },
  {
   "cell_type": "markdown",
   "id": "aa2bc7ba",
   "metadata": {},
   "source": [
    "<div style=\"border-left: 3px solid #000; padding: 1px; padding-left: 10px; background: #DFF0D8; \">\n",
    "\n",
    "<h2> Exercise 6: Running speed as a categorical variable.</h2>\n",
    " \n",
    "    <p>\n",
    "    Earlier we carried our regression model treating running speed as a continuous variable. But, the difference between running and not running might be far more consequential than changes in the value of running speed per se. This would motivate treating running speed as categorical variable, just as we have treated the stimulus orientations.  \n",
    "</p>   \n",
    "\n",
    "<p>\n",
    "Try repeating the regression analysis in this way. Do the results change? Is the answer sensitive to how we choose define our running threshold?\n",
    "</p>   "
   ]
  },
  {
   "cell_type": "code",
   "execution_count": 4,
   "id": "f5f71a14",
   "metadata": {},
   "outputs": [],
   "source": [
    "# For simplicity, we'll demonstrate with the cell we used during the tutorial\n",
    "expt_container_id = 564425775\n",
    "cell_id = 570927732\n",
    "\n",
    "boc = BrainObservatoryCache(manifest_file=manifest_file)\n",
    "expt_session_info = boc.get_ophys_experiments(experiment_container_ids=[expt_container_id])\n",
    "expt_session_info_df = pd.DataFrame(expt_session_info)\n",
    "\n",
    "session_id = expt_session_info_df[expt_session_info_df.session_type=='three_session_A'].id.iloc[0]\n",
    "data_set = boc.get_ophys_experiment_data(ophys_experiment_id=session_id)\n",
    "\n",
    "#cell_idx = np.where(cell_id==gratings.cell_id)[0][0]\n",
    "cell_idx = 10 # randoml cell"
   ]
  },
  {
   "cell_type": "code",
   "execution_count": 5,
   "id": "68270dd8",
   "metadata": {},
   "outputs": [],
   "source": [
    "gratings = boc.get_ophys_experiment_analysis(ophys_experiment_id=session_id, stimulus_type='drifting_gratings')\n",
    "events = boc.get_ophys_experiment_events(ophys_experiment_id=session_id)#[cell_idx,:]\n",
    "stim_table = gratings.stim_table"
   ]
  },
  {
   "cell_type": "code",
   "execution_count": 36,
   "id": "937ef532",
   "metadata": {},
   "outputs": [],
   "source": [
    "orientation = np.zeros((len(stim_table)))\n",
    "temp_freq = np.zeros((len(stim_table)))\n",
    "mean_response_all_cells = np.zeros((len(stim_table),len(gratings.cell_id)))\n",
    "\n",
    "for ii in range(len(stim_table)):\n",
    "    orientation[ii] = stim_table.orientation[ii]\n",
    "    temp_freq[ii] = stim_table.temporal_frequency[ii]\n",
    "    for cc in range(len(gratings.cell_id)):\n",
    "        this_response =  events[cc,stim_table.start[ii]:stim_table.start[ii]+60]\n",
    "        mean_response_all_cells[ii,cc] = this_response.mean()\n",
    "        "
   ]
  },
  {
   "cell_type": "code",
   "execution_count": 37,
   "id": "64ca4f2e",
   "metadata": {},
   "outputs": [],
   "source": [
    "orientation = orientation[temp_freq==2]\n",
    "mean_response_all_cells = mean_response_all_cells[temp_freq==2,:]"
   ]
  },
  {
   "cell_type": "code",
   "execution_count": 8,
   "id": "b2a8e651",
   "metadata": {},
   "outputs": [
    {
     "name": "stdout",
     "output_type": "stream",
     "text": [
      "8\n"
     ]
    }
   ],
   "source": [
    "# Build a matrix for every stimulus condition\n",
    "stims = np.vstack([orientation]).T\n",
    "\n",
    "# Each stimulus condition has a unique identity\n",
    "stimuli,stim_index,counts = np.unique(stims,axis=0,return_counts=True,return_inverse=True)\n",
    "\n",
    "# Confirm that there should be 8 unique stimuli\n",
    "print(len(stimuli))"
   ]
  },
  {
   "cell_type": "code",
   "execution_count": 9,
   "id": "08bbc28d",
   "metadata": {},
   "outputs": [
    {
     "data": {
      "image/png": "[encoded data removed]",
      "text/plain": [
       "<Figure size 432x288 with 1 Axes>"
      ]
     },
     "metadata": {
      "needs_background": "light"
     },
     "output_type": "display_data"
    }
   ],
   "source": [
    "# Build the design matrix\n",
    "X = np.zeros((len(stim_index),len(stimuli)))\n",
    "for ii in range(len(stim_index)):\n",
    "    X[ii,stim_index[ii]] = 1\n",
    "    \n",
    "fig,ax = plt.subplots()\n",
    "ax.imshow(X,aspect='auto') # note that matplotlib interpolates images by default; preventing this behavior requires changing settings..so just know these are 1s and 0s\n",
    "ax.set_xlabel('Stimulus orientation')\n",
    "ax.set_ylabel('Trial #')\n",
    "plt.title('Design matrix')\n",
    "\n",
    "plt.show()"
   ]
  },
  {
   "cell_type": "code",
   "execution_count": 10,
   "id": "a74630eb",
   "metadata": {},
   "outputs": [
    {
     "data": {
      "image/png": "[encoded data removed]",
      "text/plain": [
       "<Figure size 576x432 with 2 Axes>"
      ]
     },
     "metadata": {
      "needs_background": "light"
     },
     "output_type": "display_data"
    }
   ],
   "source": [
    "from scipy import signal\n",
    "\n",
    "# Load running speed\n",
    "dx, dxtime = data_set.get_running_speed()\n",
    "\n",
    "# We'll need to reapply our median filter\n",
    "dx = signal.medfilt(dx,3)\n",
    "\n",
    "# Let's plot running speed alongside the calcium trace we've been studying.\n",
    "fig, (ax1,ax2) = plt.subplots(2,1,figsize=(8,6))\n",
    "\n",
    "ax1.set_xlabel('Time (s)')\n",
    "ax1.set_ylabel('dF/F')\n",
    "ax1.plot(gratings.timestamps, events[cell_idx,:], color='b')\n",
    "\n",
    "ax2.set_xlabel('Time (s)')\n",
    "ax2.set_ylabel('Running speed (cm/s)')\n",
    "ax2.plot(dxtime, dx, color='k')\n",
    "\n",
    "plt.show()"
   ]
  },
  {
   "cell_type": "code",
   "execution_count": 11,
   "id": "52de2091",
   "metadata": {},
   "outputs": [],
   "source": [
    "spd = np.zeros((len(stim_index),60))\n",
    "for ii in range(len(stim_index)):\n",
    "    spd[ii,:] = dx[stim_table.start[ii]:stim_table.start[ii]+60]\n",
    "\n",
    "mean_spd = spd.mean(axis=1) # mean speed during each trial\n",
    "run_mask = mean_spd>0\n",
    "still_mask = mean_spd<=0"
   ]
  },
  {
   "cell_type": "code",
   "execution_count": 12,
   "id": "1b956b0a",
   "metadata": {},
   "outputs": [],
   "source": [
    "# Constructing a new design matrix, \"Xspd\", that now includes running mask.  \n",
    "\n",
    "Xspd_continuous = np.concatenate((X,mean_spd.reshape(-1,1)), axis=1) # add column for run speed predictor (we won't bother with polynomial regression this time)\n",
    "Xspd_categorical = np.concatenate((X,run_mask.reshape(-1,1)), axis=1) # add column for run_mask; note that still_mask is redundant with run_mask, so we can just use one of them\n"
   ]
  },
  {
   "cell_type": "code",
   "execution_count": 13,
   "id": "da0dd32d",
   "metadata": {},
   "outputs": [
    {
     "data": {
      "text/plain": [
       "Text(0.5, 1.0, 'Design matrix (Categorical run speed)')"
      ]
     },
     "execution_count": 13,
     "metadata": {},
     "output_type": "execute_result"
    },
    {
     "data": {
      "image/png": "[encoded data removed]",
      "text/plain": [
       "<Figure size 432x288 with 1 Axes>"
      ]
     },
     "metadata": {
      "needs_background": "light"
     },
     "output_type": "display_data"
    },
    {
     "data": {
      "image/png": "[encoded data removed]",
      "text/plain": [
       "<Figure size 432x288 with 1 Axes>"
      ]
     },
     "metadata": {
      "needs_background": "light"
     },
     "output_type": "display_data"
    }
   ],
   "source": [
    "fig,ax = plt.subplots()\n",
    "ax.imshow(Xspd_continuous,aspect='auto')\n",
    "ax.set_xlabel('Predictor [Stim orientations & Run speed]')\n",
    "ax.set_ylabel('Trial #')\n",
    "plt.title('Design matrix (Continuous run speed)')\n",
    "\n",
    "fig,ax = plt.subplots()\n",
    "ax.imshow(Xspd_categorical,aspect='auto')\n",
    "ax.set_xlabel('Predictor [Stim orientations & Run speed]')\n",
    "ax.set_ylabel('Trial #')\n",
    "plt.title('Design matrix (Categorical run speed)')"
   ]
  },
  {
   "cell_type": "code",
   "execution_count": 14,
   "id": "c2c15b70",
   "metadata": {},
   "outputs": [],
   "source": [
    "from sklearn.linear_model import LinearRegression\n",
    "from sklearn.model_selection import train_test_split"
   ]
  },
  {
   "cell_type": "code",
   "execution_count": 15,
   "id": "b04b8fba",
   "metadata": {},
   "outputs": [
    {
     "name": "stdout",
     "output_type": "stream",
     "text": [
      "Continuous model R^2 on training set = 0.5045328184948914\n",
      "Continuous model R^2 on test set = -2.977308371393021\n"
     ]
    }
   ],
   "source": [
    "# Evaluate performance of continuous model\n",
    "\n",
    "mean_response = mean_response_all_cells[:,cell_idx]\n",
    "\n",
    "X_train, X_test, y_train, y_test = train_test_split(Xspd_continuous, mean_response, test_size=0.5, random_state=42)\n",
    "\n",
    "rfmodel = LinearRegression(fit_intercept=False).fit(X_train, y_train,)\n",
    "\n",
    "scr_train = rfmodel.score(X_train,y_train)\n",
    "print('Continuous model R^2 on training set = ' + str(scr_train))\n",
    "\n",
    "scr_test = rfmodel.score(X_test,y_test)\n",
    "print('Continuous model R^2 on test set = ' + str(scr_test))"
   ]
  },
  {
   "cell_type": "code",
   "execution_count": 30,
   "id": "87b33964",
   "metadata": {},
   "outputs": [
    {
     "name": "stdout",
     "output_type": "stream",
     "text": [
      "Categorical model R^2 on training set = 0.35932131464364947\n",
      "Categorical model R^2 on test set = 0.1630796491929578\n"
     ]
    }
   ],
   "source": [
    "# Evaluate performance of categorical model\n",
    "\n",
    "X_train, X_test, y_train, y_test = train_test_split(Xspd_categorical, mean_response, test_size=0.5, random_state=42)\n",
    "\n",
    "rfmodel = LinearRegression(fit_intercept=False).fit(X_train, y_train)\n",
    "\n",
    "scr_train = rfmodel.score(X_train,y_train)\n",
    "print('Categorical model R^2 on training set = ' + str(scr_train))\n",
    "\n",
    "scr_test = rfmodel.score(X_test,y_test)\n",
    "print('Categorical model R^2 on test set = ' + str(scr_test))"
   ]
  },
  {
   "cell_type": "markdown",
   "id": "6f408a25",
   "metadata": {},
   "source": [
    "<div style=\"border-left: 3px solid #000; padding: 1px; padding-left: 10px; background: #DFF0D8; \">\n",
    "\n",
    "<h2> Exercise 7: Systematic evaluation of orientation- and running-modulation.</h2>\n",
    " \n",
    "    <p>\n",
    "    Our regression analysis focused on just one arbitrarily selected cell. Presumably, our scientific question did not pertain to this specific cell in this specific mouse <i>per se</i>, but more generally, cells belonging to the visual cortex of mice. Accordingly, any conclusions drawn on the basis of our analysis depend critically on the degree to which our selected cell is representative of the this broader population.  \n",
    "</p>   \n",
    "\n",
    "<p>\n",
    "In previous analyses, you've seen that things can look quite a bit different across different cells. For this exercise, try carrying out a more systematic investigation of tuning and running modulation of visual cortical cells. How  The goal is to obtain a better understanding of variability at the scale that our question concerns.\n",
    "</p>"
   ]
  },
  {
   "cell_type": "code",
   "execution_count": null,
   "id": "2fc2a56b",
   "metadata": {},
   "outputs": [],
   "source": []
  },
  {
   "cell_type": "markdown",
   "id": "74917514",
   "metadata": {},
   "source": [
    "<div style=\"border-left: 3px solid #000; padding: 1px; padding-left: 10px; background: #DFF0D8; \">\n",
    "\n",
    "<h2> Exercise 8: Constructing a generalized linear model (GLM).</h2>\n",
    " \n",
    "    <p>\n",
    "    We tried to spice up our linear model using polynomials -- still, this analysis assumes a particular distribution for our dependent variable (in particular, the residuals).  \n",
    "</p>   \n",
    "\n",
    "<p>\n",
    "An additional change for the sake of flexibility would be to equip our model with a <i>link function</i> via what's known as a <i> Genaralized </i> Linear Models (GLM). GLMs are routinely used to model spiking neural responses to stimuli, as spiking events are discrete, integer observations (counts) that are not Gaussian (but, rather <i> Poisson </i>) distributed.\n",
    "</p>\n",
    "\n",
    "<p>\n",
    "The GLM is defined as follows for some input $\\vec{x}_i$ and output $y_i$:\n",
    "</p>\n",
    "    \n",
    "<p>\n",
    "$P(y_i|\\vec{x}_i;\\vec{w}) = F(g^{-1}(\\vec{w}\\cdot\\vec{x}_i))$\n",
    "</p>\n",
    "    \n",
    "<p>\n",
    "Where $g$ is called the \"link function\", $F(m)$ represents some probability distribution with mean $m$, and $\\vec{w}$ is a vector of fitted parameters. These parameters are fit by finding the $\\vec{w}$ that maximizes $\\prod_{i=1}^N P(y_i|\\vec{x}_i;\\vec{w})$ for some dataset of $N$ samples. Note that when $g$ is the identity, and $F$ is the normal distribution with some fixed variance, this is just a linear regression problem.\n",
    "</p>\n",
    " \n",
    "<p>\n",
    "Fortunately, the sklearn package that we've been using so far also implements multiple GLMs with common link functions. These regressors can be imported from sklearn.linear_model as before, and they are equipped with the same functions (e.g., <i>fit</i>, <i>score</i>, and <i>predict</i>.\n",
    "</p>\n",
    "    \n",
    "<p>\n",
    "Below, try examining two different glm fits for the event data. Recall that above, we have taken the mean of the calcium event trace. How might the best link function differ if we used df/F instead? Compare model fits below.\n",
    "</p>\n",
    "    \n",
    "   <p>\n",
    "    <b> Note: </b> \"score\" will no longer correspond to $R^2$ once we've incorporated a (non-identity) link function!\n",
    "   </p>\n",
    " \n",
    "</div>"
   ]
  },
  {
   "cell_type": "code",
   "execution_count": 41,
   "id": "de315704",
   "metadata": {},
   "outputs": [],
   "source": [
    "# Let's start by discretizing events before aggregating over the course of each trial/across trials\n",
    "\n",
    "orientation = np.zeros((len(stim_table)))\n",
    "temp_freq = np.zeros((len(stim_table)))\n",
    "sum_response_all_cells = np.zeros((len(stim_table),len(gratings.cell_id)))\n",
    "\n",
    "for ii in range(len(stim_table)):\n",
    "    orientation[ii] = stim_table.orientation[ii]\n",
    "    temp_freq[ii] = stim_table.temporal_frequency[ii]\n",
    "    for cc in range(len(gratings.cell_id)):\n",
    "        this_response =  events[cc,stim_table.start[ii]:stim_table.start[ii]+60]>0\n",
    "        sum_response_all_cells[ii,cc] = this_response.sum()\n",
    "        "
   ]
  },
  {
   "cell_type": "code",
   "execution_count": 42,
   "id": "db6b7801",
   "metadata": {},
   "outputs": [],
   "source": [
    "orientation = orientation[temp_freq==2]\n",
    "sum_response_all_cells = sum_response_all_cells[temp_freq==2,:]"
   ]
  },
  {
   "cell_type": "code",
   "execution_count": 33,
   "id": "73a2db04",
   "metadata": {},
   "outputs": [
    {
     "data": {
      "image/png": "[encoded data removed]",
      "text/plain": [
       "<Figure size 432x288 with 1 Axes>"
      ]
     },
     "metadata": {
      "needs_background": "light"
     },
     "output_type": "display_data"
    }
   ],
   "source": [
    "# The distribution of residuals will suggest to us which link function would be best (if not known a priori)\n",
    "plt.hist(mean_response-rfmodel.predict(Xspd_continuous), bins=20)\n",
    "plt.show()"
   ]
  },
  {
   "cell_type": "code",
   "execution_count": 43,
   "id": "7f1ae3dc",
   "metadata": {},
   "outputs": [
    {
     "data": {
      "image/png": "[encoded data removed]",
      "text/plain": [
       "<Figure size 432x288 with 1 Axes>"
      ]
     },
     "metadata": {
      "needs_background": "light"
     },
     "output_type": "display_data"
    }
   ],
   "source": [
    "# Alternatively, can use histogram of values to decide on a threshold for binarization\n",
    "plt.hist(sum_response_all_cells.reshape(-1,1), bins=20)\n",
    "plt.show()"
   ]
  },
  {
   "cell_type": "code",
   "execution_count": 44,
   "id": "049af736",
   "metadata": {},
   "outputs": [],
   "source": [
    "from sklearn.linear_model import PoissonRegressor, GammaRegressor"
   ]
  },
  {
   "cell_type": "code",
   "execution_count": 46,
   "id": "344050bf",
   "metadata": {},
   "outputs": [],
   "source": [
    "sum_response = sum_response_all_cells[:,cell_idx]\n",
    "\n",
    "X_train, X_test, y_train, y_test = train_test_split(Xspd_continuous, sum_response, test_size=0.5, random_state=42)"
   ]
  },
  {
   "cell_type": "code",
   "execution_count": 47,
   "id": "dd38dad0",
   "metadata": {},
   "outputs": [
    {
     "data": {
      "text/html": [
       "<style>#sk-container-id-3 {color: black;}#sk-container-id-3 pre{padding: 0;}#sk-container-id-3 div.sk-toggleable {background-color: white;}#sk-container-id-3 label.sk-toggleable__label {cursor: pointer;display: block;width: 100%;margin-bottom: 0;padding: 0.3em;box-sizing: border-box;text-align: center;}#sk-container-id-3 label.sk-toggleable__label-arrow:before {content: \"▸\";float: left;margin-right: 0.25em;color: #696969;}#sk-container-id-3 label.sk-toggleable__label-arrow:hover:before {color: black;}#sk-container-id-3 div.sk-estimator:hover label.sk-toggleable__label-arrow:before {color: black;}#sk-container-id-3 div.sk-toggleable__content {max-height: 0;max-width: 0;overflow: hidden;text-align: left;background-color: #f0f8ff;}#sk-container-id-3 div.sk-toggleable__content pre {margin: 0.2em;color: black;border-radius: 0.25em;background-color: #f0f8ff;}#sk-container-id-3 input.sk-toggleable__control:checked~div.sk-toggleable__content {max-height: 200px;max-width: 100%;overflow: auto;}#sk-container-id-3 input.sk-toggleable__control:checked~label.sk-toggleable__label-arrow:before {content: \"▾\";}#sk-container-id-3 div.sk-estimator input.sk-toggleable__control:checked~label.sk-toggleable__label {background-color: #d4ebff;}#sk-container-id-3 div.sk-label input.sk-toggleable__control:checked~label.sk-toggleable__label {background-color: #d4ebff;}#sk-container-id-3 input.sk-hidden--visually {border: 0;clip: rect(1px 1px 1px 1px);clip: rect(1px, 1px, 1px, 1px);height: 1px;margin: -1px;overflow: hidden;padding: 0;position: absolute;width: 1px;}#sk-container-id-3 div.sk-estimator {font-family: monospace;background-color: #f0f8ff;border: 1px dotted black;border-radius: 0.25em;box-sizing: border-box;margin-bottom: 0.5em;}#sk-container-id-3 div.sk-estimator:hover {background-color: #d4ebff;}#sk-container-id-3 div.sk-parallel-item::after {content: \"\";width: 100%;border-bottom: 1px solid gray;flex-grow: 1;}#sk-container-id-3 div.sk-label:hover label.sk-toggleable__label {background-color: #d4ebff;}#sk-container-id-3 div.sk-serial::before {content: \"\";position: absolute;border-left: 1px solid gray;box-sizing: border-box;top: 0;bottom: 0;left: 50%;z-index: 0;}#sk-container-id-3 div.sk-serial {display: flex;flex-direction: column;align-items: center;background-color: white;padding-right: 0.2em;padding-left: 0.2em;position: relative;}#sk-container-id-3 div.sk-item {position: relative;z-index: 1;}#sk-container-id-3 div.sk-parallel {display: flex;align-items: stretch;justify-content: center;background-color: white;position: relative;}#sk-container-id-3 div.sk-item::before, #sk-container-id-3 div.sk-parallel-item::before {content: \"\";position: absolute;border-left: 1px solid gray;box-sizing: border-box;top: 0;bottom: 0;left: 50%;z-index: -1;}#sk-container-id-3 div.sk-parallel-item {display: flex;flex-direction: column;z-index: 1;position: relative;background-color: white;}#sk-container-id-3 div.sk-parallel-item:first-child::after {align-self: flex-end;width: 50%;}#sk-container-id-3 div.sk-parallel-item:last-child::after {align-self: flex-start;width: 50%;}#sk-container-id-3 div.sk-parallel-item:only-child::after {width: 0;}#sk-container-id-3 div.sk-dashed-wrapped {border: 1px dashed gray;margin: 0 0.4em 0.5em 0.4em;box-sizing: border-box;padding-bottom: 0.4em;background-color: white;}#sk-container-id-3 div.sk-label label {font-family: monospace;font-weight: bold;display: inline-block;line-height: 1.2em;}#sk-container-id-3 div.sk-label-container {text-align: center;}#sk-container-id-3 div.sk-container {/* jupyter's `normalize.less` sets `[hidden] { display: none; }` but bootstrap.min.css set `[hidden] { display: none !important; }` so we also need the `!important` here to be able to override the default hidden behavior on the sphinx rendered scikit-learn.org. See: https://github.com/scikit-learn/scikit-learn/issues/21755 */display: inline-block !important;position: relative;}#sk-container-id-3 div.sk-text-repr-fallback {display: none;}</style><div id=\"sk-container-id-3\" class=\"sk-top-container\"><div class=\"sk-text-repr-fallback\"><pre>PoissonRegressor()</pre><b>In a Jupyter environment, please rerun this cell to show the HTML representation or trust the notebook. <br />On GitHub, the HTML representation is unable to render, please try loading this page with nbviewer.org.</b></div><div class=\"sk-container\" hidden><div class=\"sk-item\"><div class=\"sk-estimator sk-toggleable\"><input class=\"sk-toggleable__control sk-hidden--visually\" id=\"sk-estimator-id-3\" type=\"checkbox\" checked><label for=\"sk-estimator-id-3\" class=\"sk-toggleable__label sk-toggleable__label-arrow\">PoissonRegressor</label><div class=\"sk-toggleable__content\"><pre>PoissonRegressor()</pre></div></div></div></div></div>"
      ],
      "text/plain": [
       "PoissonRegressor()"
      ]
     },
     "execution_count": 47,
     "metadata": {},
     "output_type": "execute_result"
    }
   ],
   "source": [
    "glm_poisson = PoissonRegressor()\n",
    "glm_poisson.fit(X_train,y_train) # needed to ensure all values >0"
   ]
  },
  {
   "cell_type": "code",
   "execution_count": 50,
   "id": "0ade4ba0",
   "metadata": {},
   "outputs": [
    {
     "data": {
      "text/plain": [
       "[<matplotlib.lines.Line2D at 0x7f3769241f40>]"
      ]
     },
     "execution_count": 50,
     "metadata": {},
     "output_type": "execute_result"
    },
    {
     "data": {
      "image/png": "[encoded data removed]",
      "text/plain": [
       "<Figure size 432x288 with 1 Axes>"
      ]
     },
     "metadata": {
      "needs_background": "light"
     },
     "output_type": "display_data"
    }
   ],
   "source": [
    "plt.figure()\n",
    "plt.plot(glm_poisson.predict(X_train),y_train,'o')"
   ]
  },
  {
   "cell_type": "code",
   "execution_count": 51,
   "id": "bb0c1194",
   "metadata": {},
   "outputs": [
    {
     "name": "stdout",
     "output_type": "stream",
     "text": [
      "Poisson score (D^2) on training set = 0.03126554756619215\n",
      "Poisson score (D^2) on test set = 0.020756835452309774\n"
     ]
    }
   ],
   "source": [
    "scr_train = glm_poisson.score(X_train,y_train)\n",
    "print('Poisson score (D^2) on training set = ' + str(scr_train))\n",
    "\n",
    "scr_test = glm_poisson.score(X_test,y_test)\n",
    "print('Poisson score (D^2) on test set = ' + str(scr_test))"
   ]
  },
  {
   "cell_type": "code",
   "execution_count": 52,
   "id": "b82832bf",
   "metadata": {},
   "outputs": [
    {
     "data": {
      "text/html": [
       "<style>#sk-container-id-4 {color: black;}#sk-container-id-4 pre{padding: 0;}#sk-container-id-4 div.sk-toggleable {background-color: white;}#sk-container-id-4 label.sk-toggleable__label {cursor: pointer;display: block;width: 100%;margin-bottom: 0;padding: 0.3em;box-sizing: border-box;text-align: center;}#sk-container-id-4 label.sk-toggleable__label-arrow:before {content: \"▸\";float: left;margin-right: 0.25em;color: #696969;}#sk-container-id-4 label.sk-toggleable__label-arrow:hover:before {color: black;}#sk-container-id-4 div.sk-estimator:hover label.sk-toggleable__label-arrow:before {color: black;}#sk-container-id-4 div.sk-toggleable__content {max-height: 0;max-width: 0;overflow: hidden;text-align: left;background-color: #f0f8ff;}#sk-container-id-4 div.sk-toggleable__content pre {margin: 0.2em;color: black;border-radius: 0.25em;background-color: #f0f8ff;}#sk-container-id-4 input.sk-toggleable__control:checked~div.sk-toggleable__content {max-height: 200px;max-width: 100%;overflow: auto;}#sk-container-id-4 input.sk-toggleable__control:checked~label.sk-toggleable__label-arrow:before {content: \"▾\";}#sk-container-id-4 div.sk-estimator input.sk-toggleable__control:checked~label.sk-toggleable__label {background-color: #d4ebff;}#sk-container-id-4 div.sk-label input.sk-toggleable__control:checked~label.sk-toggleable__label {background-color: #d4ebff;}#sk-container-id-4 input.sk-hidden--visually {border: 0;clip: rect(1px 1px 1px 1px);clip: rect(1px, 1px, 1px, 1px);height: 1px;margin: -1px;overflow: hidden;padding: 0;position: absolute;width: 1px;}#sk-container-id-4 div.sk-estimator {font-family: monospace;background-color: #f0f8ff;border: 1px dotted black;border-radius: 0.25em;box-sizing: border-box;margin-bottom: 0.5em;}#sk-container-id-4 div.sk-estimator:hover {background-color: #d4ebff;}#sk-container-id-4 div.sk-parallel-item::after {content: \"\";width: 100%;border-bottom: 1px solid gray;flex-grow: 1;}#sk-container-id-4 div.sk-label:hover label.sk-toggleable__label {background-color: #d4ebff;}#sk-container-id-4 div.sk-serial::before {content: \"\";position: absolute;border-left: 1px solid gray;box-sizing: border-box;top: 0;bottom: 0;left: 50%;z-index: 0;}#sk-container-id-4 div.sk-serial {display: flex;flex-direction: column;align-items: center;background-color: white;padding-right: 0.2em;padding-left: 0.2em;position: relative;}#sk-container-id-4 div.sk-item {position: relative;z-index: 1;}#sk-container-id-4 div.sk-parallel {display: flex;align-items: stretch;justify-content: center;background-color: white;position: relative;}#sk-container-id-4 div.sk-item::before, #sk-container-id-4 div.sk-parallel-item::before {content: \"\";position: absolute;border-left: 1px solid gray;box-sizing: border-box;top: 0;bottom: 0;left: 50%;z-index: -1;}#sk-container-id-4 div.sk-parallel-item {display: flex;flex-direction: column;z-index: 1;position: relative;background-color: white;}#sk-container-id-4 div.sk-parallel-item:first-child::after {align-self: flex-end;width: 50%;}#sk-container-id-4 div.sk-parallel-item:last-child::after {align-self: flex-start;width: 50%;}#sk-container-id-4 div.sk-parallel-item:only-child::after {width: 0;}#sk-container-id-4 div.sk-dashed-wrapped {border: 1px dashed gray;margin: 0 0.4em 0.5em 0.4em;box-sizing: border-box;padding-bottom: 0.4em;background-color: white;}#sk-container-id-4 div.sk-label label {font-family: monospace;font-weight: bold;display: inline-block;line-height: 1.2em;}#sk-container-id-4 div.sk-label-container {text-align: center;}#sk-container-id-4 div.sk-container {/* jupyter's `normalize.less` sets `[hidden] { display: none; }` but bootstrap.min.css set `[hidden] { display: none !important; }` so we also need the `!important` here to be able to override the default hidden behavior on the sphinx rendered scikit-learn.org. See: https://github.com/scikit-learn/scikit-learn/issues/21755 */display: inline-block !important;position: relative;}#sk-container-id-4 div.sk-text-repr-fallback {display: none;}</style><div id=\"sk-container-id-4\" class=\"sk-top-container\"><div class=\"sk-text-repr-fallback\"><pre>GammaRegressor()</pre><b>In a Jupyter environment, please rerun this cell to show the HTML representation or trust the notebook. <br />On GitHub, the HTML representation is unable to render, please try loading this page with nbviewer.org.</b></div><div class=\"sk-container\" hidden><div class=\"sk-item\"><div class=\"sk-estimator sk-toggleable\"><input class=\"sk-toggleable__control sk-hidden--visually\" id=\"sk-estimator-id-4\" type=\"checkbox\" checked><label for=\"sk-estimator-id-4\" class=\"sk-toggleable__label sk-toggleable__label-arrow\">GammaRegressor</label><div class=\"sk-toggleable__content\"><pre>GammaRegressor()</pre></div></div></div></div></div>"
      ],
      "text/plain": [
       "GammaRegressor()"
      ]
     },
     "execution_count": 52,
     "metadata": {},
     "output_type": "execute_result"
    }
   ],
   "source": [
    "glm_gamma = GammaRegressor()\n",
    "glm_gamma.fit(X_train,y_train+.0000001) # needed to ensure all values >0"
   ]
  },
  {
   "cell_type": "code",
   "execution_count": 53,
   "id": "54133246",
   "metadata": {},
   "outputs": [
    {
     "name": "stdout",
     "output_type": "stream",
     "text": [
      "Poisson score (D^2) on training set = 0.0312656145454836\n",
      "Poisson score (D^2) on test set = 0.02075687359801137\n"
     ]
    }
   ],
   "source": [
    "scr_train = glm_poisson.score(X_train,y_train+.0000001)\n",
    "print('Poisson score (D^2) on training set = ' + str(scr_train))\n",
    "\n",
    "scr_test = glm_poisson.score(X_test,y_test+.0000001)\n",
    "print('Poisson score (D^2) on test set = ' + str(scr_test))"
   ]
  },
  {
   "cell_type": "code",
   "execution_count": 27,
   "id": "682b552e",
   "metadata": {},
   "outputs": [],
   "source": [
    "# todo -- decide whether to it's worth getting something working here or switch to different problem"
   ]
  },
  {
   "cell_type": "code",
   "execution_count": null,
   "id": "9c791a30",
   "metadata": {},
   "outputs": [],
   "source": []
  }
 ],
 "metadata": {
  "kernelspec": {
   "display_name": "Python 3",
   "language": "python",
   "name": "python3"
  },
  "language_info": {
   "codemirror_mode": {
    "name": "ipython",
    "version": 3
   },
   "file_extension": ".py",
   "mimetype": "text/x-python",
   "name": "python",
   "nbconvert_exporter": "python",
   "pygments_lexer": "ipython3",
   "version": "3.8.5"
  }
 },
 "nbformat": 4,
 "nbformat_minor": 5
}
